{
 "cells": [
  {
   "cell_type": "code",
   "execution_count": 15,
   "metadata": {},
   "outputs": [],
   "source": [
    "import matplotlib.pyplot as plt\n",
    "import numpy as np\n",
    "import os\n",
    "import pandas as pd\n",
    "import random\n",
    "from sklearn.metrics import confusion_matrix, ConfusionMatrixDisplay\n",
    "from transformers import AutoTokenizer, AutoModelForSequenceClassification\n",
    "\n",
    "os.chdir(\"../../\")\n",
    "random.seed(42)"
   ]
  },
  {
   "cell_type": "markdown",
   "metadata": {},
   "source": [
    "### Load data"
   ]
  },
  {
   "cell_type": "code",
   "execution_count": 2,
   "metadata": {},
   "outputs": [],
   "source": [
    "# Load data\n",
    "train = pd.read_csv('data/processed/train_esg_shortened.csv')\n",
    "train = train[train.transcript_esg.apply(lambda t: isinstance(t, str))]\n",
    "test = pd.read_csv('data/processed/test_esg_shortened.csv')\n",
    "test = test[test.transcript_esg.apply(lambda t: isinstance(t, str))]"
   ]
  },
  {
   "cell_type": "code",
   "execution_count": 3,
   "metadata": {},
   "outputs": [
    {
     "data": {
      "text/html": [
       "<div>\n",
       "<style scoped>\n",
       "    .dataframe tbody tr th:only-of-type {\n",
       "        vertical-align: middle;\n",
       "    }\n",
       "\n",
       "    .dataframe tbody tr th {\n",
       "        vertical-align: top;\n",
       "    }\n",
       "\n",
       "    .dataframe thead th {\n",
       "        text-align: right;\n",
       "    }\n",
       "</style>\n",
       "<table border=\"1\" class=\"dataframe\">\n",
       "  <thead>\n",
       "    <tr style=\"text-align: right;\">\n",
       "      <th></th>\n",
       "      <th>symbol</th>\n",
       "      <th>year</th>\n",
       "      <th>quarter</th>\n",
       "      <th>transcript_esg</th>\n",
       "      <th>esg_score</th>\n",
       "      <th>esg_risk_level</th>\n",
       "    </tr>\n",
       "  </thead>\n",
       "  <tbody>\n",
       "    <tr>\n",
       "      <th>0</th>\n",
       "      <td>A</td>\n",
       "      <td>2022</td>\n",
       "      <td>1</td>\n",
       "      <td>thank emily welcome everyone agilents conferen...</td>\n",
       "      <td>15.0</td>\n",
       "      <td>Low</td>\n",
       "    </tr>\n",
       "    <tr>\n",
       "      <th>1</th>\n",
       "      <td>A</td>\n",
       "      <td>2022</td>\n",
       "      <td>3</td>\n",
       "      <td>thank hannah welcome everyone agilents confere...</td>\n",
       "      <td>15.0</td>\n",
       "      <td>Low</td>\n",
       "    </tr>\n",
       "    <tr>\n",
       "      <th>2</th>\n",
       "      <td>AAPL</td>\n",
       "      <td>2022</td>\n",
       "      <td>1</td>\n",
       "      <td>good day welcome apple q fy earnings conferenc...</td>\n",
       "      <td>17.0</td>\n",
       "      <td>Low</td>\n",
       "    </tr>\n",
       "    <tr>\n",
       "      <th>3</th>\n",
       "      <td>AAPL</td>\n",
       "      <td>2022</td>\n",
       "      <td>2</td>\n",
       "      <td>good day welcome apple q fy earnings conferenc...</td>\n",
       "      <td>17.0</td>\n",
       "      <td>Low</td>\n",
       "    </tr>\n",
       "    <tr>\n",
       "      <th>4</th>\n",
       "      <td>AAPL</td>\n",
       "      <td>2022</td>\n",
       "      <td>3</td>\n",
       "      <td>good day welcome apple q fy earnings conferenc...</td>\n",
       "      <td>17.0</td>\n",
       "      <td>Low</td>\n",
       "    </tr>\n",
       "  </tbody>\n",
       "</table>\n",
       "</div>"
      ],
      "text/plain": [
       "  symbol  year  quarter                                     transcript_esg  \\\n",
       "0      A  2022        1  thank emily welcome everyone agilents conferen...   \n",
       "1      A  2022        3  thank hannah welcome everyone agilents confere...   \n",
       "2   AAPL  2022        1  good day welcome apple q fy earnings conferenc...   \n",
       "3   AAPL  2022        2  good day welcome apple q fy earnings conferenc...   \n",
       "4   AAPL  2022        3  good day welcome apple q fy earnings conferenc...   \n",
       "\n",
       "   esg_score esg_risk_level  \n",
       "0       15.0            Low  \n",
       "1       15.0            Low  \n",
       "2       17.0            Low  \n",
       "3       17.0            Low  \n",
       "4       17.0            Low  "
      ]
     },
     "execution_count": 3,
     "metadata": {},
     "output_type": "execute_result"
    }
   ],
   "source": [
    "train.head()"
   ]
  },
  {
   "cell_type": "code",
   "execution_count": 4,
   "metadata": {},
   "outputs": [
    {
     "data": {
      "image/png": "[encoded data removed]",
      "text/plain": [
       "<Figure size 640x480 with 1 Axes>"
      ]
     },
     "metadata": {},
     "output_type": "display_data"
    }
   ],
   "source": [
    "# Plotting the distribution of 'esg_score'\n",
    "plt.figure()\n",
    "plt.hist(train['esg_score'], bins=30, color='blue', alpha=0.7)\n",
    "plt.title('Distribution of ESG Scores in Train dataset')\n",
    "plt.xlabel('ESG Score')\n",
    "plt.ylabel('Frequency')\n",
    "plt.grid(True)\n",
    "plt.show()"
   ]
  },
  {
   "cell_type": "code",
   "execution_count": 18,
   "metadata": {},
   "outputs": [],
   "source": [
    "def get_risk_level(score, as_str = True):\n",
    "    if score < 10:\n",
    "        return \"Negligible\" if as_str else 0\n",
    "    if score < 20:\n",
    "        return \"Low\" if as_str else 1\n",
    "    if score < 30:\n",
    "        return \"Medium\" if as_str else 2\n",
    "    if score < 40:\n",
    "        return \"High\" if as_str else 3\n",
    "    return \"Severe\" if as_str else 4"
   ]
  },
  {
   "cell_type": "markdown",
   "metadata": {},
   "source": [
    "### Load model"
   ]
  },
  {
   "cell_type": "code",
   "execution_count": 6,
   "metadata": {},
   "outputs": [
    {
     "data": {
      "text/plain": [
       "BertForSequenceClassification(\n",
       "  (bert): BertModel(\n",
       "    (embeddings): BertEmbeddings(\n",
       "      (word_embeddings): Embedding(30522, 768, padding_idx=0)\n",
       "      (position_embeddings): Embedding(512, 768)\n",
       "      (token_type_embeddings): Embedding(2, 768)\n",
       "      (LayerNorm): LayerNorm((768,), eps=1e-12, elementwise_affine=True)\n",
       "      (dropout): Dropout(p=0.1, inplace=False)\n",
       "    )\n",
       "    (encoder): BertEncoder(\n",
       "      (layer): ModuleList(\n",
       "        (0-11): 12 x BertLayer(\n",
       "          (attention): BertAttention(\n",
       "            (self): BertSelfAttention(\n",
       "              (query): Linear(in_features=768, out_features=768, bias=True)\n",
       "              (key): Linear(in_features=768, out_features=768, bias=True)\n",
       "              (value): Linear(in_features=768, out_features=768, bias=True)\n",
       "              (dropout): Dropout(p=0.1, inplace=False)\n",
       "            )\n",
       "            (output): BertSelfOutput(\n",
       "              (dense): Linear(in_features=768, out_features=768, bias=True)\n",
       "              (LayerNorm): LayerNorm((768,), eps=1e-12, elementwise_affine=True)\n",
       "              (dropout): Dropout(p=0.1, inplace=False)\n",
       "            )\n",
       "          )\n",
       "          (intermediate): BertIntermediate(\n",
       "            (dense): Linear(in_features=768, out_features=3072, bias=True)\n",
       "            (intermediate_act_fn): GELUActivation()\n",
       "          )\n",
       "          (output): BertOutput(\n",
       "            (dense): Linear(in_features=3072, out_features=768, bias=True)\n",
       "            (LayerNorm): LayerNorm((768,), eps=1e-12, elementwise_affine=True)\n",
       "            (dropout): Dropout(p=0.1, inplace=False)\n",
       "          )\n",
       "        )\n",
       "      )\n",
       "    )\n",
       "    (pooler): BertPooler(\n",
       "      (dense): Linear(in_features=768, out_features=768, bias=True)\n",
       "      (activation): Tanh()\n",
       "    )\n",
       "  )\n",
       "  (dropout): Dropout(p=0.1, inplace=False)\n",
       "  (classifier): Linear(in_features=768, out_features=1, bias=True)\n",
       ")"
      ]
     },
     "execution_count": 6,
     "metadata": {},
     "output_type": "execute_result"
    }
   ],
   "source": [
    "tokenizer = AutoTokenizer.from_pretrained(\"google-bert/bert-base-uncased\")\n",
    "model = AutoModelForSequenceClassification.from_pretrained(\"models/bert_finetuned_240426_1711\", num_labels=1)\n",
    "model.to(\"cuda\")"
   ]
  },
  {
   "cell_type": "markdown",
   "metadata": {},
   "source": [
    "### Save model inferencing results"
   ]
  },
  {
   "cell_type": "code",
   "execution_count": 7,
   "metadata": {},
   "outputs": [],
   "source": [
    "def get_results(df, batch_size=12, max_length=512):\n",
    "    \n",
    "    nb_batches = len(df) // batch_size + 1\n",
    "    esg_score_pred = []\n",
    "\n",
    "    for i in range(nb_batches):\n",
    "        input_texts = list(df[i * batch_size: (i+1) * batch_size][\"transcript_esg\"])\n",
    "        encoded = tokenizer(input_texts, truncation=True, padding=\"max_length\", max_length=max_length, return_tensors=\"pt\").to(\"cuda\")\n",
    "        esg_score_pred += model(**encoded).logits.reshape(-1).tolist()\n",
    "    \n",
    "    df[\"esg_score_pred\"] = esg_score_pred\n",
    "    df[\"esg_risk_level_pred\"] = df[\"esg_score_pred\"].apply(get_risk_level)\n",
    "    \n",
    "    return df"
   ]
  },
  {
   "cell_type": "code",
   "execution_count": 21,
   "metadata": {},
   "outputs": [
    {
     "data": {
      "text/html": [
       "<div>\n",
       "<style scoped>\n",
       "    .dataframe tbody tr th:only-of-type {\n",
       "        vertical-align: middle;\n",
       "    }\n",
       "\n",
       "    .dataframe tbody tr th {\n",
       "        vertical-align: top;\n",
       "    }\n",
       "\n",
       "    .dataframe thead th {\n",
       "        text-align: right;\n",
       "    }\n",
       "</style>\n",
       "<table border=\"1\" class=\"dataframe\">\n",
       "  <thead>\n",
       "    <tr style=\"text-align: right;\">\n",
       "      <th></th>\n",
       "      <th>symbol</th>\n",
       "      <th>year</th>\n",
       "      <th>quarter</th>\n",
       "      <th>transcript_esg</th>\n",
       "      <th>esg_score</th>\n",
       "      <th>esg_risk_level</th>\n",
       "      <th>esg_score_pred</th>\n",
       "      <th>esg_risk_level_pred</th>\n",
       "    </tr>\n",
       "  </thead>\n",
       "  <tbody>\n",
       "    <tr>\n",
       "      <th>0</th>\n",
       "      <td>A</td>\n",
       "      <td>2022</td>\n",
       "      <td>1</td>\n",
       "      <td>thank emily welcome everyone agilents conferen...</td>\n",
       "      <td>15.0</td>\n",
       "      <td>Low</td>\n",
       "      <td>14.603610</td>\n",
       "      <td>Low</td>\n",
       "    </tr>\n",
       "    <tr>\n",
       "      <th>1</th>\n",
       "      <td>A</td>\n",
       "      <td>2022</td>\n",
       "      <td>3</td>\n",
       "      <td>thank hannah welcome everyone agilents confere...</td>\n",
       "      <td>15.0</td>\n",
       "      <td>Low</td>\n",
       "      <td>21.494139</td>\n",
       "      <td>Medium</td>\n",
       "    </tr>\n",
       "    <tr>\n",
       "      <th>2</th>\n",
       "      <td>AAPL</td>\n",
       "      <td>2022</td>\n",
       "      <td>1</td>\n",
       "      <td>good day welcome apple q fy earnings conferenc...</td>\n",
       "      <td>17.0</td>\n",
       "      <td>Low</td>\n",
       "      <td>17.040257</td>\n",
       "      <td>Low</td>\n",
       "    </tr>\n",
       "    <tr>\n",
       "      <th>3</th>\n",
       "      <td>AAPL</td>\n",
       "      <td>2022</td>\n",
       "      <td>2</td>\n",
       "      <td>good day welcome apple q fy earnings conferenc...</td>\n",
       "      <td>17.0</td>\n",
       "      <td>Low</td>\n",
       "      <td>16.951591</td>\n",
       "      <td>Low</td>\n",
       "    </tr>\n",
       "    <tr>\n",
       "      <th>4</th>\n",
       "      <td>AAPL</td>\n",
       "      <td>2022</td>\n",
       "      <td>3</td>\n",
       "      <td>good day welcome apple q fy earnings conferenc...</td>\n",
       "      <td>17.0</td>\n",
       "      <td>Low</td>\n",
       "      <td>15.287500</td>\n",
       "      <td>Low</td>\n",
       "    </tr>\n",
       "    <tr>\n",
       "      <th>...</th>\n",
       "      <td>...</td>\n",
       "      <td>...</td>\n",
       "      <td>...</td>\n",
       "      <td>...</td>\n",
       "      <td>...</td>\n",
       "      <td>...</td>\n",
       "      <td>...</td>\n",
       "      <td>...</td>\n",
       "    </tr>\n",
       "    <tr>\n",
       "      <th>542</th>\n",
       "      <td>WMT</td>\n",
       "      <td>2023</td>\n",
       "      <td>3</td>\n",
       "      <td>followed questionandanswer session turn call d...</td>\n",
       "      <td>25.0</td>\n",
       "      <td>Medium</td>\n",
       "      <td>25.838663</td>\n",
       "      <td>Medium</td>\n",
       "    </tr>\n",
       "    <tr>\n",
       "      <th>543</th>\n",
       "      <td>YUM</td>\n",
       "      <td>2022</td>\n",
       "      <td>1</td>\n",
       "      <td>welcome q yum brand earnings conference call n...</td>\n",
       "      <td>21.0</td>\n",
       "      <td>Medium</td>\n",
       "      <td>21.060621</td>\n",
       "      <td>Medium</td>\n",
       "    </tr>\n",
       "    <tr>\n",
       "      <th>544</th>\n",
       "      <td>YUM</td>\n",
       "      <td>2022</td>\n",
       "      <td>2</td>\n",
       "      <td>get started would like remind conference call ...</td>\n",
       "      <td>21.0</td>\n",
       "      <td>Medium</td>\n",
       "      <td>19.603724</td>\n",
       "      <td>Low</td>\n",
       "    </tr>\n",
       "    <tr>\n",
       "      <th>545</th>\n",
       "      <td>ZTS</td>\n",
       "      <td>2022</td>\n",
       "      <td>1</td>\n",
       "      <td>thank operator good morning everyone welcome z...</td>\n",
       "      <td>18.0</td>\n",
       "      <td>Low</td>\n",
       "      <td>17.436306</td>\n",
       "      <td>Low</td>\n",
       "    </tr>\n",
       "    <tr>\n",
       "      <th>546</th>\n",
       "      <td>ZTS</td>\n",
       "      <td>2022</td>\n",
       "      <td>2</td>\n",
       "      <td>thank good morning everyone welcome zoetis sec...</td>\n",
       "      <td>18.0</td>\n",
       "      <td>Low</td>\n",
       "      <td>17.968504</td>\n",
       "      <td>Low</td>\n",
       "    </tr>\n",
       "  </tbody>\n",
       "</table>\n",
       "<p>544 rows × 8 columns</p>\n",
       "</div>"
      ],
      "text/plain": [
       "    symbol  year  quarter                                     transcript_esg  \\\n",
       "0        A  2022        1  thank emily welcome everyone agilents conferen...   \n",
       "1        A  2022        3  thank hannah welcome everyone agilents confere...   \n",
       "2     AAPL  2022        1  good day welcome apple q fy earnings conferenc...   \n",
       "3     AAPL  2022        2  good day welcome apple q fy earnings conferenc...   \n",
       "4     AAPL  2022        3  good day welcome apple q fy earnings conferenc...   \n",
       "..     ...   ...      ...                                                ...   \n",
       "542    WMT  2023        3  followed questionandanswer session turn call d...   \n",
       "543    YUM  2022        1  welcome q yum brand earnings conference call n...   \n",
       "544    YUM  2022        2  get started would like remind conference call ...   \n",
       "545    ZTS  2022        1  thank operator good morning everyone welcome z...   \n",
       "546    ZTS  2022        2  thank good morning everyone welcome zoetis sec...   \n",
       "\n",
       "     esg_score esg_risk_level  esg_score_pred esg_risk_level_pred  \n",
       "0         15.0            Low       14.603610                 Low  \n",
       "1         15.0            Low       21.494139              Medium  \n",
       "2         17.0            Low       17.040257                 Low  \n",
       "3         17.0            Low       16.951591                 Low  \n",
       "4         17.0            Low       15.287500                 Low  \n",
       "..         ...            ...             ...                 ...  \n",
       "542       25.0         Medium       25.838663              Medium  \n",
       "543       21.0         Medium       21.060621              Medium  \n",
       "544       21.0         Medium       19.603724                 Low  \n",
       "545       18.0            Low       17.436306                 Low  \n",
       "546       18.0            Low       17.968504                 Low  \n",
       "\n",
       "[544 rows x 8 columns]"
      ]
     },
     "execution_count": 21,
     "metadata": {},
     "output_type": "execute_result"
    }
   ],
   "source": [
    "get_results(train)"
   ]
  },
  {
   "cell_type": "code",
   "execution_count": 22,
   "metadata": {},
   "outputs": [
    {
     "data": {
      "text/plain": [
       "0.7941176470588235"
      ]
     },
     "execution_count": 22,
     "metadata": {},
     "output_type": "execute_result"
    }
   ],
   "source": [
    "# computed risk level\n",
    "sum(train.esg_score.apply(get_risk_level) == train.esg_risk_level_pred) / train.shape[0]"
   ]
  },
  {
   "cell_type": "code",
   "execution_count": 23,
   "metadata": {},
   "outputs": [
    {
     "data": {
      "text/plain": [
       "0.75"
      ]
     },
     "execution_count": 23,
     "metadata": {},
     "output_type": "execute_result"
    }
   ],
   "source": [
    "# labeled risk level\n",
    "sum(train.esg_risk_level == train.esg_risk_level_pred) / train.shape[0]"
   ]
  },
  {
   "cell_type": "code",
   "execution_count": 29,
   "metadata": {},
   "outputs": [
    {
     "data": {
      "image/png": "[encoded data removed]",
      "text/plain": [
       "<Figure size 640x480 with 2 Axes>"
      ]
     },
     "metadata": {},
     "output_type": "display_data"
    }
   ],
   "source": [
    "cm = confusion_matrix(\n",
    "    train.esg_score.apply(get_risk_level), \n",
    "    train.esg_risk_level_pred, \n",
    "    labels=[\"Negligible\", \"Low\", \"Medium\", \"High\", \"Severe\"]\n",
    ")\n",
    "cm_display = ConfusionMatrixDisplay(confusion_matrix = cm, \n",
    "                                    display_labels=[\"Negligible\", \"Low\", \"Medium\", \"High\", \"Severe\"])\n",
    "\n",
    "cm_display.plot()\n",
    "plt.show()"
   ]
  },
  {
   "cell_type": "code",
   "execution_count": 31,
   "metadata": {},
   "outputs": [
    {
     "data": {
      "image/png": "[encoded data removed]",
      "text/plain": [
       "<Figure size 640x480 with 1 Axes>"
      ]
     },
     "metadata": {},
     "output_type": "display_data"
    }
   ],
   "source": [
    "plt.scatter(\n",
    "    x=train.esg_score,\n",
    "    y=train.esg_score_pred,\n",
    ")\n",
    "plt.xlabel(\"esg score\")\n",
    "plt.ylabel(\"predicted esg score\")\n",
    "plt.title(\"ESG Score Prediction (Training)\")\n",
    "plt.show()"
   ]
  },
  {
   "cell_type": "code",
   "execution_count": 26,
   "metadata": {},
   "outputs": [
    {
     "data": {
      "text/plain": [
       "numpy.ndarray"
      ]
     },
     "execution_count": 26,
     "metadata": {},
     "output_type": "execute_result"
    }
   ],
   "source": [
    "type(confusion_matrix)"
   ]
  },
  {
   "cell_type": "code",
   "execution_count": 11,
   "metadata": {},
   "outputs": [
    {
     "data": {
      "text/html": [
       "<div>\n",
       "<style scoped>\n",
       "    .dataframe tbody tr th:only-of-type {\n",
       "        vertical-align: middle;\n",
       "    }\n",
       "\n",
       "    .dataframe tbody tr th {\n",
       "        vertical-align: top;\n",
       "    }\n",
       "\n",
       "    .dataframe thead th {\n",
       "        text-align: right;\n",
       "    }\n",
       "</style>\n",
       "<table border=\"1\" class=\"dataframe\">\n",
       "  <thead>\n",
       "    <tr style=\"text-align: right;\">\n",
       "      <th></th>\n",
       "      <th>symbol</th>\n",
       "      <th>year</th>\n",
       "      <th>quarter</th>\n",
       "      <th>transcript_esg</th>\n",
       "      <th>esg_score</th>\n",
       "      <th>esg_risk_level</th>\n",
       "      <th>esg_score_pred</th>\n",
       "      <th>esg_risk_level_pred</th>\n",
       "    </tr>\n",
       "  </thead>\n",
       "  <tbody>\n",
       "    <tr>\n",
       "      <th>0</th>\n",
       "      <td>ADP</td>\n",
       "      <td>2022</td>\n",
       "      <td>1</td>\n",
       "      <td>call reference nongaap financial measures beli...</td>\n",
       "      <td>14.0</td>\n",
       "      <td>Low</td>\n",
       "      <td>15.068374</td>\n",
       "      <td>Low</td>\n",
       "    </tr>\n",
       "    <tr>\n",
       "      <th>1</th>\n",
       "      <td>ADP</td>\n",
       "      <td>2022</td>\n",
       "      <td>1</td>\n",
       "      <td>call reference nongaap financial measures beli...</td>\n",
       "      <td>14.0</td>\n",
       "      <td>Low</td>\n",
       "      <td>15.068374</td>\n",
       "      <td>Low</td>\n",
       "    </tr>\n",
       "    <tr>\n",
       "      <th>2</th>\n",
       "      <td>ADSK</td>\n",
       "      <td>2022</td>\n",
       "      <td>1</td>\n",
       "      <td>addition replay call available autodeskcominve...</td>\n",
       "      <td>16.0</td>\n",
       "      <td>Negligible</td>\n",
       "      <td>14.917133</td>\n",
       "      <td>Low</td>\n",
       "    </tr>\n",
       "    <tr>\n",
       "      <th>3</th>\n",
       "      <td>ADSK</td>\n",
       "      <td>2022</td>\n",
       "      <td>3</td>\n",
       "      <td>addition replay call available autodeskcominve...</td>\n",
       "      <td>16.0</td>\n",
       "      <td>Negligible</td>\n",
       "      <td>17.766365</td>\n",
       "      <td>Low</td>\n",
       "    </tr>\n",
       "    <tr>\n",
       "      <th>4</th>\n",
       "      <td>ADSK</td>\n",
       "      <td>2022</td>\n",
       "      <td>4</td>\n",
       "      <td>addition replay call available autodeskcominve...</td>\n",
       "      <td>16.0</td>\n",
       "      <td>Negligible</td>\n",
       "      <td>15.303509</td>\n",
       "      <td>Low</td>\n",
       "    </tr>\n",
       "    <tr>\n",
       "      <th>...</th>\n",
       "      <td>...</td>\n",
       "      <td>...</td>\n",
       "      <td>...</td>\n",
       "      <td>...</td>\n",
       "      <td>...</td>\n",
       "      <td>...</td>\n",
       "      <td>...</td>\n",
       "      <td>...</td>\n",
       "    </tr>\n",
       "    <tr>\n",
       "      <th>133</th>\n",
       "      <td>VRTX</td>\n",
       "      <td>2022</td>\n",
       "      <td>2</td>\n",
       "      <td>reshma kewalramani vertexs ceo president stuar...</td>\n",
       "      <td>23.0</td>\n",
       "      <td>Medium</td>\n",
       "      <td>25.375624</td>\n",
       "      <td>Medium</td>\n",
       "    </tr>\n",
       "    <tr>\n",
       "      <th>134</th>\n",
       "      <td>VRTX</td>\n",
       "      <td>2022</td>\n",
       "      <td>3</td>\n",
       "      <td>reshma kewalramani vertexs ceo president stuar...</td>\n",
       "      <td>23.0</td>\n",
       "      <td>Medium</td>\n",
       "      <td>25.716974</td>\n",
       "      <td>Medium</td>\n",
       "    </tr>\n",
       "    <tr>\n",
       "      <th>135</th>\n",
       "      <td>XRAY</td>\n",
       "      <td>2022</td>\n",
       "      <td>1</td>\n",
       "      <td>begin let start im excited took role interim c...</td>\n",
       "      <td>16.0</td>\n",
       "      <td>Negligible</td>\n",
       "      <td>22.043604</td>\n",
       "      <td>Medium</td>\n",
       "    </tr>\n",
       "    <tr>\n",
       "      <th>136</th>\n",
       "      <td>XYL</td>\n",
       "      <td>2022</td>\n",
       "      <td>2</td>\n",
       "      <td>good morning everyone welcome xylems second qu...</td>\n",
       "      <td>16.0</td>\n",
       "      <td>Negligible</td>\n",
       "      <td>19.692316</td>\n",
       "      <td>Low</td>\n",
       "    </tr>\n",
       "    <tr>\n",
       "      <th>137</th>\n",
       "      <td>XYL</td>\n",
       "      <td>2022</td>\n",
       "      <td>2</td>\n",
       "      <td>good morning everyone welcome xylems second qu...</td>\n",
       "      <td>16.0</td>\n",
       "      <td>Negligible</td>\n",
       "      <td>19.692316</td>\n",
       "      <td>Low</td>\n",
       "    </tr>\n",
       "  </tbody>\n",
       "</table>\n",
       "<p>138 rows × 8 columns</p>\n",
       "</div>"
      ],
      "text/plain": [
       "    symbol  year  quarter                                     transcript_esg  \\\n",
       "0      ADP  2022        1  call reference nongaap financial measures beli...   \n",
       "1      ADP  2022        1  call reference nongaap financial measures beli...   \n",
       "2     ADSK  2022        1  addition replay call available autodeskcominve...   \n",
       "3     ADSK  2022        3  addition replay call available autodeskcominve...   \n",
       "4     ADSK  2022        4  addition replay call available autodeskcominve...   \n",
       "..     ...   ...      ...                                                ...   \n",
       "133   VRTX  2022        2  reshma kewalramani vertexs ceo president stuar...   \n",
       "134   VRTX  2022        3  reshma kewalramani vertexs ceo president stuar...   \n",
       "135   XRAY  2022        1  begin let start im excited took role interim c...   \n",
       "136    XYL  2022        2  good morning everyone welcome xylems second qu...   \n",
       "137    XYL  2022        2  good morning everyone welcome xylems second qu...   \n",
       "\n",
       "     esg_score esg_risk_level  esg_score_pred esg_risk_level_pred  \n",
       "0         14.0            Low       15.068374                 Low  \n",
       "1         14.0            Low       15.068374                 Low  \n",
       "2         16.0     Negligible       14.917133                 Low  \n",
       "3         16.0     Negligible       17.766365                 Low  \n",
       "4         16.0     Negligible       15.303509                 Low  \n",
       "..         ...            ...             ...                 ...  \n",
       "133       23.0         Medium       25.375624              Medium  \n",
       "134       23.0         Medium       25.716974              Medium  \n",
       "135       16.0     Negligible       22.043604              Medium  \n",
       "136       16.0     Negligible       19.692316                 Low  \n",
       "137       16.0     Negligible       19.692316                 Low  \n",
       "\n",
       "[138 rows x 8 columns]"
      ]
     },
     "execution_count": 11,
     "metadata": {},
     "output_type": "execute_result"
    }
   ],
   "source": [
    "get_results(test)"
   ]
  },
  {
   "cell_type": "code",
   "execution_count": 12,
   "metadata": {},
   "outputs": [
    {
     "data": {
      "text/plain": [
       "0.6594202898550725"
      ]
     },
     "execution_count": 12,
     "metadata": {},
     "output_type": "execute_result"
    }
   ],
   "source": [
    "# computed risk level\n",
    "sum(test.esg_score.apply(get_risk_level) == test.esg_risk_level_pred) / test.shape[0]"
   ]
  },
  {
   "cell_type": "code",
   "execution_count": 13,
   "metadata": {},
   "outputs": [
    {
     "data": {
      "text/plain": [
       "0.5289855072463768"
      ]
     },
     "execution_count": 13,
     "metadata": {},
     "output_type": "execute_result"
    }
   ],
   "source": [
    "# labeled risk level\n",
    "sum(test.esg_risk_level == test.esg_risk_level_pred) / test.shape[0]"
   ]
  },
  {
   "cell_type": "code",
   "execution_count": 30,
   "metadata": {},
   "outputs": [
    {
     "data": {
      "image/png": "[encoded data removed]",
      "text/plain": [
       "<Figure size 640x480 with 2 Axes>"
      ]
     },
     "metadata": {},
     "output_type": "display_data"
    }
   ],
   "source": [
    "cm = confusion_matrix(\n",
    "    test.esg_score.apply(get_risk_level), \n",
    "    test.esg_risk_level_pred, \n",
    "    labels=[\"Negligible\", \"Low\", \"Medium\", \"High\", \"Severe\"]\n",
    ")\n",
    "cm_display = ConfusionMatrixDisplay(confusion_matrix = cm, \n",
    "                                    display_labels=[\"Negligible\", \"Low\", \"Medium\", \"High\", \"Severe\"])\n",
    "\n",
    "cm_display.plot()\n",
    "plt.show()"
   ]
  },
  {
   "cell_type": "code",
   "execution_count": 33,
   "metadata": {},
   "outputs": [
    {
     "data": {
      "image/png": "[encoded data removed]",
      "text/plain": [
       "<Figure size 640x480 with 1 Axes>"
      ]
     },
     "metadata": {},
     "output_type": "display_data"
    }
   ],
   "source": [
    "plt.scatter(\n",
    "    x=test.esg_score,\n",
    "    y=test.esg_score_pred,\n",
    ")\n",
    "plt.xlabel(\"esg score\")\n",
    "plt.ylabel(\"predicted esg score\")\n",
    "plt.title(\"ESG Score Prediction (Testing)\")\n",
    "plt.show()"
   ]
  },
  {
   "cell_type": "code",
   "execution_count": null,
   "metadata": {},
   "outputs": [],
   "source": []
  }
 ],
 "metadata": {
  "kernelspec": {
   "display_name": "base",
   "language": "python",
   "name": "python3"
  },
  "language_info": {
   "codemirror_mode": {
    "name": "ipython",
    "version": 3
   },
   "file_extension": ".py",
   "mimetype": "text/x-python",
   "name": "python",
   "nbconvert_exporter": "python",
   "pygments_lexer": "ipython3",
   "version": "3.11.8"
  }
 },
 "nbformat": 4,
 "nbformat_minor": 2
}
