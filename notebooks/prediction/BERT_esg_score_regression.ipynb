{
 "cells": [
  {
   "cell_type": "code",
   "execution_count": 1,
   "metadata": {},
   "outputs": [],
   "source": [
    "import matplotlib.pyplot as plt\n",
    "import os\n",
    "import pandas as pd\n",
    "import random\n",
    "import warnings\n",
    "from datasets import Dataset\n",
    "from datetime import datetime\n",
    "from transformers import AutoTokenizer, AutoModelForSequenceClassification, TrainingArguments, Trainer\n",
    "from sklearn.metrics import mean_squared_error\n",
    "\n",
    "os.chdir(\"../../\")\n",
    "random.seed(42)"
   ]
  },
  {
   "cell_type": "markdown",
   "metadata": {},
   "source": [
    "### Load data"
   ]
  },
  {
   "cell_type": "code",
   "execution_count": 2,
   "metadata": {},
   "outputs": [],
   "source": [
    "# Load data\n",
    "train = pd.read_csv('data/processed/train_esg_shortened.csv')\n",
    "train = train[train.transcript_esg.apply(lambda t: isinstance(t, str))]\n",
    "test = pd.read_csv('data/processed/test_esg_shortened.csv')\n",
    "test = test[test.transcript_esg.apply(lambda t: isinstance(t, str))]"
   ]
  },
  {
   "cell_type": "code",
   "execution_count": 3,
   "metadata": {},
   "outputs": [
    {
     "data": {
      "text/html": [
       "<div>\n",
       "<style scoped>\n",
       "    .dataframe tbody tr th:only-of-type {\n",
       "        vertical-align: middle;\n",
       "    }\n",
       "\n",
       "    .dataframe tbody tr th {\n",
       "        vertical-align: top;\n",
       "    }\n",
       "\n",
       "    .dataframe thead th {\n",
       "        text-align: right;\n",
       "    }\n",
       "</style>\n",
       "<table border=\"1\" class=\"dataframe\">\n",
       "  <thead>\n",
       "    <tr style=\"text-align: right;\">\n",
       "      <th></th>\n",
       "      <th>symbol</th>\n",
       "      <th>year</th>\n",
       "      <th>quarter</th>\n",
       "      <th>transcript_esg</th>\n",
       "      <th>esg_score</th>\n",
       "      <th>esg_risk_level</th>\n",
       "    </tr>\n",
       "  </thead>\n",
       "  <tbody>\n",
       "    <tr>\n",
       "      <th>0</th>\n",
       "      <td>A</td>\n",
       "      <td>2022</td>\n",
       "      <td>1</td>\n",
       "      <td>thank emily welcome everyone agilents conferen...</td>\n",
       "      <td>15.0</td>\n",
       "      <td>Low</td>\n",
       "    </tr>\n",
       "    <tr>\n",
       "      <th>1</th>\n",
       "      <td>A</td>\n",
       "      <td>2022</td>\n",
       "      <td>3</td>\n",
       "      <td>thank hannah welcome everyone agilents confere...</td>\n",
       "      <td>15.0</td>\n",
       "      <td>Low</td>\n",
       "    </tr>\n",
       "    <tr>\n",
       "      <th>2</th>\n",
       "      <td>AAPL</td>\n",
       "      <td>2022</td>\n",
       "      <td>1</td>\n",
       "      <td>good day welcome apple q fy earnings conferenc...</td>\n",
       "      <td>17.0</td>\n",
       "      <td>Low</td>\n",
       "    </tr>\n",
       "    <tr>\n",
       "      <th>3</th>\n",
       "      <td>AAPL</td>\n",
       "      <td>2022</td>\n",
       "      <td>2</td>\n",
       "      <td>good day welcome apple q fy earnings conferenc...</td>\n",
       "      <td>17.0</td>\n",
       "      <td>Low</td>\n",
       "    </tr>\n",
       "    <tr>\n",
       "      <th>4</th>\n",
       "      <td>AAPL</td>\n",
       "      <td>2022</td>\n",
       "      <td>3</td>\n",
       "      <td>good day welcome apple q fy earnings conferenc...</td>\n",
       "      <td>17.0</td>\n",
       "      <td>Low</td>\n",
       "    </tr>\n",
       "  </tbody>\n",
       "</table>\n",
       "</div>"
      ],
      "text/plain": [
       "  symbol  year  quarter                                     transcript_esg  \\\n",
       "0      A  2022        1  thank emily welcome everyone agilents conferen...   \n",
       "1      A  2022        3  thank hannah welcome everyone agilents confere...   \n",
       "2   AAPL  2022        1  good day welcome apple q fy earnings conferenc...   \n",
       "3   AAPL  2022        2  good day welcome apple q fy earnings conferenc...   \n",
       "4   AAPL  2022        3  good day welcome apple q fy earnings conferenc...   \n",
       "\n",
       "   esg_score esg_risk_level  \n",
       "0       15.0            Low  \n",
       "1       15.0            Low  \n",
       "2       17.0            Low  \n",
       "3       17.0            Low  \n",
       "4       17.0            Low  "
      ]
     },
     "execution_count": 3,
     "metadata": {},
     "output_type": "execute_result"
    }
   ],
   "source": [
    "train.head()"
   ]
  },
  {
   "cell_type": "code",
   "execution_count": 4,
   "metadata": {},
   "outputs": [
    {
     "data": {
      "image/png": "[encoded data removed]",
      "text/plain": [
       "<Figure size 1000x600 with 1 Axes>"
      ]
     },
     "metadata": {},
     "output_type": "display_data"
    }
   ],
   "source": [
    "# Plotting the distribution of 'esg_score'\n",
    "plt.figure(figsize=(10, 6))\n",
    "plt.hist(train['esg_score'], bins=30, color='blue', alpha=0.7)\n",
    "plt.title('Distribution of ESG Scores in Train dataset')\n",
    "plt.xlabel('ESG Score')\n",
    "plt.ylabel('Frequency')\n",
    "plt.grid(True)\n",
    "plt.show()"
   ]
  },
  {
   "cell_type": "markdown",
   "metadata": {},
   "source": [
    "### Load model"
   ]
  },
  {
   "cell_type": "code",
   "execution_count": 5,
   "metadata": {},
   "outputs": [
    {
     "name": "stderr",
     "output_type": "stream",
     "text": [
      "Some weights of BertForSequenceClassification were not initialized from the model checkpoint at google-bert/bert-base-uncased and are newly initialized: ['classifier.bias', 'classifier.weight']\n",
      "You should probably TRAIN this model on a down-stream task to be able to use it for predictions and inference.\n"
     ]
    }
   ],
   "source": [
    "BASE_MODEL = \"google-bert/bert-base-uncased\"\n",
    "LEARNING_RATE = 1e-4\n",
    "MAX_LENGTH = 512\n",
    "BATCH_SIZE = 12\n",
    "EPOCHS = 32\n",
    "\n",
    "tokenizer = AutoTokenizer.from_pretrained(BASE_MODEL)\n",
    "model = AutoModelForSequenceClassification.from_pretrained(BASE_MODEL, num_labels=1)"
   ]
  },
  {
   "cell_type": "markdown",
   "metadata": {},
   "source": [
    "### Prepare datasets"
   ]
  },
  {
   "cell_type": "code",
   "execution_count": 6,
   "metadata": {},
   "outputs": [],
   "source": [
    "def get_dataset(df):\n",
    "    ds = tokenizer(list(df[\"transcript_esg\"]), truncation=True, padding=\"max_length\", max_length=MAX_LENGTH)\n",
    "    ds[\"label\"] = list(df[\"esg_score\"])\n",
    "    return ds\n",
    "\n",
    "train = train.sample(frac=1, random_state=42)\n",
    "dataset_train = get_dataset(train[:int(train.shape[0] * 0.8)])\n",
    "dataset_val = get_dataset(train[int(train.shape[0] * 0.8):])"
   ]
  },
  {
   "cell_type": "code",
   "execution_count": 7,
   "metadata": {},
   "outputs": [
    {
     "data": {
      "text/plain": [
       "dict_keys(['input_ids', 'token_type_ids', 'attention_mask', 'label'])"
      ]
     },
     "execution_count": 7,
     "metadata": {},
     "output_type": "execute_result"
    }
   ],
   "source": [
    "dataset_train.keys()"
   ]
  },
  {
   "cell_type": "markdown",
   "metadata": {},
   "source": [
    "### Prepare for training"
   ]
  },
  {
   "cell_type": "code",
   "execution_count": 8,
   "metadata": {},
   "outputs": [],
   "source": [
    "timestamp = datetime.now().strftime(\"%y%m%d_%H%M\")\n",
    "training_args = TrainingArguments(\n",
    "    output_dir=f\"checkpoints/bert_finetuned_{timestamp}/\",\n",
    "    learning_rate=LEARNING_RATE,\n",
    "    per_device_train_batch_size=BATCH_SIZE,\n",
    "    per_device_eval_batch_size=BATCH_SIZE,\n",
    "    num_train_epochs=EPOCHS,\n",
    "    evaluation_strategy=\"epoch\",\n",
    "    logging_strategy=\"epoch\",\n",
    "    save_strategy=\"epoch\",\n",
    "    # metric_for_best_model=\"mse\",\n",
    "    greater_is_better=False,\n",
    "    save_total_limit=2,\n",
    "    load_best_model_at_end=True,\n",
    "    weight_decay=0.01,\n",
    "    report_to=\"none\",\n",
    ")"
   ]
  },
  {
   "cell_type": "markdown",
   "metadata": {},
   "source": [
    "### Training"
   ]
  },
  {
   "cell_type": "code",
   "execution_count": 9,
   "metadata": {},
   "outputs": [],
   "source": [
    "def compute_metrics_for_regression(eval_pred):\n",
    "    logits, labels = eval_pred\n",
    "    labels = labels.reshape(-1, 1)\n",
    "    \n",
    "    mse = mean_squared_error(labels, logits)\n",
    "    matches = [int(x // 20 == y // 20) for x, y in zip(logits, labels)]\n",
    "    accuracy = sum(matches) / len(matches)\n",
    "\n",
    "    return {\n",
    "        # \"mse\": mse, \n",
    "        \"accuracy\": accuracy\n",
    "    }"
   ]
  },
  {
   "cell_type": "code",
   "execution_count": 10,
   "metadata": {},
   "outputs": [],
   "source": [
    "dataset_train = Dataset.from_dict(dataset_train)\n",
    "dataset_val = Dataset.from_dict(dataset_val)"
   ]
  },
  {
   "cell_type": "code",
   "execution_count": 11,
   "metadata": {},
   "outputs": [
    {
     "data": {
      "text/plain": [
       "Dataset({\n",
       "    features: ['input_ids', 'token_type_ids', 'attention_mask', 'label'],\n",
       "    num_rows: 435\n",
       "})"
      ]
     },
     "execution_count": 11,
     "metadata": {},
     "output_type": "execute_result"
    }
   ],
   "source": [
    "dataset_train"
   ]
  },
  {
   "cell_type": "code",
   "execution_count": 12,
   "metadata": {},
   "outputs": [],
   "source": [
    "trainer = Trainer(\n",
    "    model=model,\n",
    "    args=training_args,\n",
    "    train_dataset=dataset_train,\n",
    "    eval_dataset=dataset_val,\n",
    "    compute_metrics=compute_metrics_for_regression,\n",
    ")"
   ]
  },
  {
   "cell_type": "code",
   "execution_count": 13,
   "metadata": {},
   "outputs": [
    {
     "data": {
      "text/html": [
       "\n",
       "    <div>\n",
       "      \n",
       "      <progress value='608' max='608' style='width:300px; height:20px; vertical-align: middle;'></progress>\n",
       "      [608/608 07:00, Epoch 32/32]\n",
       "    </div>\n",
       "    <table border=\"1\" class=\"dataframe\">\n",
       "  <thead>\n",
       " <tr style=\"text-align: left;\">\n",
       "      <th>Epoch</th>\n",
       "      <th>Training Loss</th>\n",
       "      <th>Validation Loss</th>\n",
       "      <th>Accuracy</th>\n",
       "    </tr>\n",
       "  </thead>\n",
       "  <tbody>\n",
       "    <tr>\n",
       "      <td>1</td>\n",
       "      <td>352.562600</td>\n",
       "      <td>269.018494</td>\n",
       "      <td>0.467890</td>\n",
       "    </tr>\n",
       "    <tr>\n",
       "      <td>2</td>\n",
       "      <td>183.027000</td>\n",
       "      <td>160.510101</td>\n",
       "      <td>0.467890</td>\n",
       "    </tr>\n",
       "    <tr>\n",
       "      <td>3</td>\n",
       "      <td>113.994600</td>\n",
       "      <td>120.100937</td>\n",
       "      <td>0.467890</td>\n",
       "    </tr>\n",
       "    <tr>\n",
       "      <td>4</td>\n",
       "      <td>86.241100</td>\n",
       "      <td>97.888191</td>\n",
       "      <td>0.467890</td>\n",
       "    </tr>\n",
       "    <tr>\n",
       "      <td>5</td>\n",
       "      <td>71.116700</td>\n",
       "      <td>83.217369</td>\n",
       "      <td>0.467890</td>\n",
       "    </tr>\n",
       "    <tr>\n",
       "      <td>6</td>\n",
       "      <td>62.797500</td>\n",
       "      <td>73.286819</td>\n",
       "      <td>0.467890</td>\n",
       "    </tr>\n",
       "    <tr>\n",
       "      <td>7</td>\n",
       "      <td>56.018100</td>\n",
       "      <td>67.339500</td>\n",
       "      <td>0.467890</td>\n",
       "    </tr>\n",
       "    <tr>\n",
       "      <td>8</td>\n",
       "      <td>53.295700</td>\n",
       "      <td>64.634590</td>\n",
       "      <td>0.495413</td>\n",
       "    </tr>\n",
       "    <tr>\n",
       "      <td>9</td>\n",
       "      <td>53.946700</td>\n",
       "      <td>64.109993</td>\n",
       "      <td>0.495413</td>\n",
       "    </tr>\n",
       "    <tr>\n",
       "      <td>10</td>\n",
       "      <td>54.072400</td>\n",
       "      <td>62.813141</td>\n",
       "      <td>0.495413</td>\n",
       "    </tr>\n",
       "    <tr>\n",
       "      <td>11</td>\n",
       "      <td>53.608700</td>\n",
       "      <td>62.253025</td>\n",
       "      <td>0.495413</td>\n",
       "    </tr>\n",
       "    <tr>\n",
       "      <td>12</td>\n",
       "      <td>55.155500</td>\n",
       "      <td>56.070587</td>\n",
       "      <td>0.697248</td>\n",
       "    </tr>\n",
       "    <tr>\n",
       "      <td>13</td>\n",
       "      <td>45.501500</td>\n",
       "      <td>58.973423</td>\n",
       "      <td>0.706422</td>\n",
       "    </tr>\n",
       "    <tr>\n",
       "      <td>14</td>\n",
       "      <td>50.965200</td>\n",
       "      <td>55.236717</td>\n",
       "      <td>0.678899</td>\n",
       "    </tr>\n",
       "    <tr>\n",
       "      <td>15</td>\n",
       "      <td>41.057800</td>\n",
       "      <td>56.702526</td>\n",
       "      <td>0.651376</td>\n",
       "    </tr>\n",
       "    <tr>\n",
       "      <td>16</td>\n",
       "      <td>37.778400</td>\n",
       "      <td>59.252960</td>\n",
       "      <td>0.642202</td>\n",
       "    </tr>\n",
       "    <tr>\n",
       "      <td>17</td>\n",
       "      <td>34.830200</td>\n",
       "      <td>52.445194</td>\n",
       "      <td>0.651376</td>\n",
       "    </tr>\n",
       "    <tr>\n",
       "      <td>18</td>\n",
       "      <td>35.724700</td>\n",
       "      <td>46.656921</td>\n",
       "      <td>0.761468</td>\n",
       "    </tr>\n",
       "    <tr>\n",
       "      <td>19</td>\n",
       "      <td>34.328600</td>\n",
       "      <td>47.806263</td>\n",
       "      <td>0.733945</td>\n",
       "    </tr>\n",
       "    <tr>\n",
       "      <td>20</td>\n",
       "      <td>38.194800</td>\n",
       "      <td>53.786903</td>\n",
       "      <td>0.614679</td>\n",
       "    </tr>\n",
       "    <tr>\n",
       "      <td>21</td>\n",
       "      <td>33.263400</td>\n",
       "      <td>48.718979</td>\n",
       "      <td>0.697248</td>\n",
       "    </tr>\n",
       "    <tr>\n",
       "      <td>22</td>\n",
       "      <td>25.715500</td>\n",
       "      <td>43.016235</td>\n",
       "      <td>0.752294</td>\n",
       "    </tr>\n",
       "    <tr>\n",
       "      <td>23</td>\n",
       "      <td>26.035900</td>\n",
       "      <td>44.499329</td>\n",
       "      <td>0.678899</td>\n",
       "    </tr>\n",
       "    <tr>\n",
       "      <td>24</td>\n",
       "      <td>25.158600</td>\n",
       "      <td>42.451763</td>\n",
       "      <td>0.761468</td>\n",
       "    </tr>\n",
       "    <tr>\n",
       "      <td>25</td>\n",
       "      <td>26.313100</td>\n",
       "      <td>42.295391</td>\n",
       "      <td>0.761468</td>\n",
       "    </tr>\n",
       "    <tr>\n",
       "      <td>26</td>\n",
       "      <td>21.631900</td>\n",
       "      <td>40.326267</td>\n",
       "      <td>0.724771</td>\n",
       "    </tr>\n",
       "    <tr>\n",
       "      <td>27</td>\n",
       "      <td>21.700900</td>\n",
       "      <td>39.325821</td>\n",
       "      <td>0.770642</td>\n",
       "    </tr>\n",
       "    <tr>\n",
       "      <td>28</td>\n",
       "      <td>21.027600</td>\n",
       "      <td>38.651485</td>\n",
       "      <td>0.761468</td>\n",
       "    </tr>\n",
       "    <tr>\n",
       "      <td>29</td>\n",
       "      <td>21.508000</td>\n",
       "      <td>38.623997</td>\n",
       "      <td>0.770642</td>\n",
       "    </tr>\n",
       "    <tr>\n",
       "      <td>30</td>\n",
       "      <td>21.514300</td>\n",
       "      <td>39.582993</td>\n",
       "      <td>0.770642</td>\n",
       "    </tr>\n",
       "    <tr>\n",
       "      <td>31</td>\n",
       "      <td>21.755200</td>\n",
       "      <td>37.096737</td>\n",
       "      <td>0.779817</td>\n",
       "    </tr>\n",
       "    <tr>\n",
       "      <td>32</td>\n",
       "      <td>23.298600</td>\n",
       "      <td>38.643257</td>\n",
       "      <td>0.761468</td>\n",
       "    </tr>\n",
       "  </tbody>\n",
       "</table><p>"
      ],
      "text/plain": [
       "<IPython.core.display.HTML object>"
      ]
     },
     "metadata": {},
     "output_type": "display_data"
    },
    {
     "data": {
      "text/plain": [
       "TrainOutput(global_step=608, training_loss=56.348155071860866, metrics={'train_runtime': 423.3395, 'train_samples_per_second': 32.881, 'train_steps_per_second': 1.436, 'total_flos': 3662473006448640.0, 'train_loss': 56.348155071860866, 'epoch': 32.0})"
      ]
     },
     "execution_count": 13,
     "metadata": {},
     "output_type": "execute_result"
    }
   ],
   "source": [
    "warnings.filterwarnings(\"ignore\")\n",
    "trainer.train()"
   ]
  },
  {
   "cell_type": "markdown",
   "metadata": {},
   "source": [
    "### Evaluation "
   ]
  },
  {
   "cell_type": "code",
   "execution_count": 14,
   "metadata": {},
   "outputs": [
    {
     "data": {
      "text/plain": [
       "Dataset({\n",
       "    features: ['input_ids', 'token_type_ids', 'attention_mask', 'label'],\n",
       "    num_rows: 138\n",
       "})"
      ]
     },
     "execution_count": 14,
     "metadata": {},
     "output_type": "execute_result"
    }
   ],
   "source": [
    "dataset_test = get_dataset(test)\n",
    "dataset_test = Dataset.from_dict(dataset_test)\n",
    "dataset_test"
   ]
  },
  {
   "cell_type": "code",
   "execution_count": 15,
   "metadata": {},
   "outputs": [
    {
     "data": {
      "text/html": [
       "\n",
       "    <div>\n",
       "      \n",
       "      <progress value='6' max='6' style='width:300px; height:20px; vertical-align: middle;'></progress>\n",
       "      [6/6 00:00]\n",
       "    </div>\n",
       "    "
      ],
      "text/plain": [
       "<IPython.core.display.HTML object>"
      ]
     },
     "metadata": {},
     "output_type": "display_data"
    },
    {
     "data": {
      "text/plain": [
       "{'eval_loss': 42.71034240722656,\n",
       " 'eval_accuracy': 0.6811594202898551,\n",
       " 'eval_runtime': 1.1486,\n",
       " 'eval_samples_per_second': 120.146,\n",
       " 'eval_steps_per_second': 5.224,\n",
       " 'epoch': 32.0}"
      ]
     },
     "execution_count": 15,
     "metadata": {},
     "output_type": "execute_result"
    }
   ],
   "source": [
    "trainer.eval_dataset = dataset_test\n",
    "warnings.filterwarnings(\"ignore\")\n",
    "trainer.evaluate()"
   ]
  },
  {
   "cell_type": "markdown",
   "metadata": {},
   "source": [
    "### Save model"
   ]
  },
  {
   "cell_type": "code",
   "execution_count": 18,
   "metadata": {},
   "outputs": [],
   "source": [
    "# trainer.model.save_pretrained(f\"models/bert_finetuned_{timestamp}\")"
   ]
  },
  {
   "cell_type": "markdown",
   "metadata": {},
   "source": [
    "### Save model inferencing results"
   ]
  },
  {
   "cell_type": "code",
   "execution_count": 32,
   "metadata": {},
   "outputs": [],
   "source": [
    "def get_risk_level(score):\n",
    "    if score < 10:\n",
    "        return \"Negligible\"\n",
    "    if score < 20:\n",
    "        return \"Low\"\n",
    "    if score < 30:\n",
    "        return \"Medium\"\n",
    "    if score < 40:\n",
    "        return \"High\"\n",
    "    return \"Severe\"\n",
    "\n",
    "def get_results(df):\n",
    "    \n",
    "    nb_batches = len(df) // BATCH_SIZE + 1\n",
    "    esg_score_pred = []\n",
    "\n",
    "    for i in range(nb_batches):\n",
    "        input_texts = list(df[i * BATCH_SIZE: (i+1) * BATCH_SIZE][\"transcript_esg\"])\n",
    "        encoded = tokenizer(input_texts, truncation=True, padding=\"max_length\", max_length=MAX_LENGTH, return_tensors=\"pt\").to(\"cuda\")\n",
    "        esg_score_pred += model(**encoded).logits.reshape(-1).tolist()\n",
    "    \n",
    "    df[\"esg_score_pred\"] = esg_score_pred\n",
    "    df[\"esg_risk_level_pred\"] = df[\"esg_score_pred\"].apply(get_risk_level)\n",
    "    \n",
    "    return df"
   ]
  },
  {
   "cell_type": "code",
   "execution_count": 34,
   "metadata": {},
   "outputs": [
    {
     "data": {
      "text/html": [
       "<div>\n",
       "<style scoped>\n",
       "    .dataframe tbody tr th:only-of-type {\n",
       "        vertical-align: middle;\n",
       "    }\n",
       "\n",
       "    .dataframe tbody tr th {\n",
       "        vertical-align: top;\n",
       "    }\n",
       "\n",
       "    .dataframe thead th {\n",
       "        text-align: right;\n",
       "    }\n",
       "</style>\n",
       "<table border=\"1\" class=\"dataframe\">\n",
       "  <thead>\n",
       "    <tr style=\"text-align: right;\">\n",
       "      <th></th>\n",
       "      <th>symbol</th>\n",
       "      <th>year</th>\n",
       "      <th>quarter</th>\n",
       "      <th>transcript_esg</th>\n",
       "      <th>esg_score</th>\n",
       "      <th>esg_risk_level</th>\n",
       "      <th>esg_score_pred</th>\n",
       "      <th>esg_risk_level_pred</th>\n",
       "    </tr>\n",
       "  </thead>\n",
       "  <tbody>\n",
       "    <tr>\n",
       "      <th>460</th>\n",
       "      <td>SWKS</td>\n",
       "      <td>2022</td>\n",
       "      <td>1</td>\n",
       "      <td>good afternoon welcome skyworks solution first...</td>\n",
       "      <td>28.0</td>\n",
       "      <td>Medium</td>\n",
       "      <td>24.928537</td>\n",
       "      <td>Medium</td>\n",
       "    </tr>\n",
       "    <tr>\n",
       "      <th>258</th>\n",
       "      <td>JPM</td>\n",
       "      <td>2022</td>\n",
       "      <td>3</td>\n",
       "      <td>firm reported net income billion eps revenue b...</td>\n",
       "      <td>29.0</td>\n",
       "      <td>Medium</td>\n",
       "      <td>24.928534</td>\n",
       "      <td>Medium</td>\n",
       "    </tr>\n",
       "    <tr>\n",
       "      <th>360</th>\n",
       "      <td>NEE</td>\n",
       "      <td>2022</td>\n",
       "      <td>2</td>\n",
       "      <td>good morning everyone welcome nextera energy n...</td>\n",
       "      <td>28.0</td>\n",
       "      <td>Medium</td>\n",
       "      <td>24.928543</td>\n",
       "      <td>Medium</td>\n",
       "    </tr>\n",
       "    <tr>\n",
       "      <th>535</th>\n",
       "      <td>WMT</td>\n",
       "      <td>2023</td>\n",
       "      <td>1</td>\n",
       "      <td>greeting welcome walmarts fiscal year first qu...</td>\n",
       "      <td>25.0</td>\n",
       "      <td>Medium</td>\n",
       "      <td>24.928537</td>\n",
       "      <td>Medium</td>\n",
       "    </tr>\n",
       "    <tr>\n",
       "      <th>545</th>\n",
       "      <td>ZTS</td>\n",
       "      <td>2022</td>\n",
       "      <td>1</td>\n",
       "      <td>thank operator good morning everyone welcome z...</td>\n",
       "      <td>18.0</td>\n",
       "      <td>Low</td>\n",
       "      <td>17.094320</td>\n",
       "      <td>Low</td>\n",
       "    </tr>\n",
       "    <tr>\n",
       "      <th>...</th>\n",
       "      <td>...</td>\n",
       "      <td>...</td>\n",
       "      <td>...</td>\n",
       "      <td>...</td>\n",
       "      <td>...</td>\n",
       "      <td>...</td>\n",
       "      <td>...</td>\n",
       "      <td>...</td>\n",
       "    </tr>\n",
       "    <tr>\n",
       "      <th>71</th>\n",
       "      <td>CAG</td>\n",
       "      <td>2023</td>\n",
       "      <td>2</td>\n",
       "      <td>good morning everyone welcome conagra brand se...</td>\n",
       "      <td>32.0</td>\n",
       "      <td>High</td>\n",
       "      <td>24.928539</td>\n",
       "      <td>Medium</td>\n",
       "    </tr>\n",
       "    <tr>\n",
       "      <th>106</th>\n",
       "      <td>CRM</td>\n",
       "      <td>2022</td>\n",
       "      <td>3</td>\n",
       "      <td>lady gentleman thank standing welcome salesfor...</td>\n",
       "      <td>13.0</td>\n",
       "      <td>Low</td>\n",
       "      <td>12.393847</td>\n",
       "      <td>Low</td>\n",
       "    </tr>\n",
       "    <tr>\n",
       "      <th>271</th>\n",
       "      <td>KO</td>\n",
       "      <td>2022</td>\n",
       "      <td>1</td>\n",
       "      <td>thanks tim good morning everyone first foremos...</td>\n",
       "      <td>23.0</td>\n",
       "      <td>Medium</td>\n",
       "      <td>24.928530</td>\n",
       "      <td>Medium</td>\n",
       "    </tr>\n",
       "    <tr>\n",
       "      <th>438</th>\n",
       "      <td>PYPL</td>\n",
       "      <td>2022</td>\n",
       "      <td>2</td>\n",
       "      <td>providing slide presentation accompany comment...</td>\n",
       "      <td>16.0</td>\n",
       "      <td>Low</td>\n",
       "      <td>15.392840</td>\n",
       "      <td>Low</td>\n",
       "    </tr>\n",
       "    <tr>\n",
       "      <th>102</th>\n",
       "      <td>CPT</td>\n",
       "      <td>2022</td>\n",
       "      <td>2</td>\n",
       "      <td>good morning welcome camden property trust sec...</td>\n",
       "      <td>16.0</td>\n",
       "      <td>Low</td>\n",
       "      <td>15.902341</td>\n",
       "      <td>Low</td>\n",
       "    </tr>\n",
       "  </tbody>\n",
       "</table>\n",
       "<p>544 rows × 8 columns</p>\n",
       "</div>"
      ],
      "text/plain": [
       "    symbol  year  quarter                                     transcript_esg  \\\n",
       "460   SWKS  2022        1  good afternoon welcome skyworks solution first...   \n",
       "258    JPM  2022        3  firm reported net income billion eps revenue b...   \n",
       "360    NEE  2022        2  good morning everyone welcome nextera energy n...   \n",
       "535    WMT  2023        1  greeting welcome walmarts fiscal year first qu...   \n",
       "545    ZTS  2022        1  thank operator good morning everyone welcome z...   \n",
       "..     ...   ...      ...                                                ...   \n",
       "71     CAG  2023        2  good morning everyone welcome conagra brand se...   \n",
       "106    CRM  2022        3  lady gentleman thank standing welcome salesfor...   \n",
       "271     KO  2022        1  thanks tim good morning everyone first foremos...   \n",
       "438   PYPL  2022        2  providing slide presentation accompany comment...   \n",
       "102    CPT  2022        2  good morning welcome camden property trust sec...   \n",
       "\n",
       "     esg_score esg_risk_level  esg_score_pred esg_risk_level_pred  \n",
       "460       28.0         Medium       24.928537              Medium  \n",
       "258       29.0         Medium       24.928534              Medium  \n",
       "360       28.0         Medium       24.928543              Medium  \n",
       "535       25.0         Medium       24.928537              Medium  \n",
       "545       18.0            Low       17.094320                 Low  \n",
       "..         ...            ...             ...                 ...  \n",
       "71        32.0           High       24.928539              Medium  \n",
       "106       13.0            Low       12.393847                 Low  \n",
       "271       23.0         Medium       24.928530              Medium  \n",
       "438       16.0            Low       15.392840                 Low  \n",
       "102       16.0            Low       15.902341                 Low  \n",
       "\n",
       "[544 rows x 8 columns]"
      ]
     },
     "execution_count": 34,
     "metadata": {},
     "output_type": "execute_result"
    }
   ],
   "source": [
    "get_results(train)"
   ]
  },
  {
   "cell_type": "code",
   "execution_count": 37,
   "metadata": {},
   "outputs": [
    {
     "data": {
      "text/plain": [
       "0.6985294117647058"
      ]
     },
     "execution_count": 37,
     "metadata": {},
     "output_type": "execute_result"
    }
   ],
   "source": [
    "sum(train.esg_risk_level == train.esg_risk_level_pred) / train.shape[0]"
   ]
  },
  {
   "cell_type": "code",
   "execution_count": 38,
   "metadata": {},
   "outputs": [
    {
     "data": {
      "text/html": [
       "<div>\n",
       "<style scoped>\n",
       "    .dataframe tbody tr th:only-of-type {\n",
       "        vertical-align: middle;\n",
       "    }\n",
       "\n",
       "    .dataframe tbody tr th {\n",
       "        vertical-align: top;\n",
       "    }\n",
       "\n",
       "    .dataframe thead th {\n",
       "        text-align: right;\n",
       "    }\n",
       "</style>\n",
       "<table border=\"1\" class=\"dataframe\">\n",
       "  <thead>\n",
       "    <tr style=\"text-align: right;\">\n",
       "      <th></th>\n",
       "      <th>symbol</th>\n",
       "      <th>year</th>\n",
       "      <th>quarter</th>\n",
       "      <th>transcript_esg</th>\n",
       "      <th>esg_score</th>\n",
       "      <th>esg_risk_level</th>\n",
       "      <th>esg_score_pred</th>\n",
       "      <th>esg_risk_level_pred</th>\n",
       "    </tr>\n",
       "  </thead>\n",
       "  <tbody>\n",
       "    <tr>\n",
       "      <th>0</th>\n",
       "      <td>ADP</td>\n",
       "      <td>2022</td>\n",
       "      <td>1</td>\n",
       "      <td>call reference nongaap financial measures beli...</td>\n",
       "      <td>14.0</td>\n",
       "      <td>Low</td>\n",
       "      <td>15.461826</td>\n",
       "      <td>Low</td>\n",
       "    </tr>\n",
       "    <tr>\n",
       "      <th>1</th>\n",
       "      <td>ADP</td>\n",
       "      <td>2022</td>\n",
       "      <td>1</td>\n",
       "      <td>call reference nongaap financial measures beli...</td>\n",
       "      <td>14.0</td>\n",
       "      <td>Low</td>\n",
       "      <td>15.461826</td>\n",
       "      <td>Low</td>\n",
       "    </tr>\n",
       "    <tr>\n",
       "      <th>2</th>\n",
       "      <td>ADSK</td>\n",
       "      <td>2022</td>\n",
       "      <td>1</td>\n",
       "      <td>addition replay call available autodeskcominve...</td>\n",
       "      <td>16.0</td>\n",
       "      <td>Negligible</td>\n",
       "      <td>15.000785</td>\n",
       "      <td>Low</td>\n",
       "    </tr>\n",
       "    <tr>\n",
       "      <th>3</th>\n",
       "      <td>ADSK</td>\n",
       "      <td>2022</td>\n",
       "      <td>3</td>\n",
       "      <td>addition replay call available autodeskcominve...</td>\n",
       "      <td>16.0</td>\n",
       "      <td>Negligible</td>\n",
       "      <td>24.928467</td>\n",
       "      <td>Medium</td>\n",
       "    </tr>\n",
       "    <tr>\n",
       "      <th>4</th>\n",
       "      <td>ADSK</td>\n",
       "      <td>2022</td>\n",
       "      <td>4</td>\n",
       "      <td>addition replay call available autodeskcominve...</td>\n",
       "      <td>16.0</td>\n",
       "      <td>Negligible</td>\n",
       "      <td>14.814432</td>\n",
       "      <td>Low</td>\n",
       "    </tr>\n",
       "    <tr>\n",
       "      <th>...</th>\n",
       "      <td>...</td>\n",
       "      <td>...</td>\n",
       "      <td>...</td>\n",
       "      <td>...</td>\n",
       "      <td>...</td>\n",
       "      <td>...</td>\n",
       "      <td>...</td>\n",
       "      <td>...</td>\n",
       "    </tr>\n",
       "    <tr>\n",
       "      <th>133</th>\n",
       "      <td>VRTX</td>\n",
       "      <td>2022</td>\n",
       "      <td>2</td>\n",
       "      <td>reshma kewalramani vertexs ceo president stuar...</td>\n",
       "      <td>23.0</td>\n",
       "      <td>Medium</td>\n",
       "      <td>24.928530</td>\n",
       "      <td>Medium</td>\n",
       "    </tr>\n",
       "    <tr>\n",
       "      <th>134</th>\n",
       "      <td>VRTX</td>\n",
       "      <td>2022</td>\n",
       "      <td>3</td>\n",
       "      <td>reshma kewalramani vertexs ceo president stuar...</td>\n",
       "      <td>23.0</td>\n",
       "      <td>Medium</td>\n",
       "      <td>24.928534</td>\n",
       "      <td>Medium</td>\n",
       "    </tr>\n",
       "    <tr>\n",
       "      <th>135</th>\n",
       "      <td>XRAY</td>\n",
       "      <td>2022</td>\n",
       "      <td>1</td>\n",
       "      <td>begin let start im excited took role interim c...</td>\n",
       "      <td>16.0</td>\n",
       "      <td>Negligible</td>\n",
       "      <td>24.928528</td>\n",
       "      <td>Medium</td>\n",
       "    </tr>\n",
       "    <tr>\n",
       "      <th>136</th>\n",
       "      <td>XYL</td>\n",
       "      <td>2022</td>\n",
       "      <td>2</td>\n",
       "      <td>good morning everyone welcome xylems second qu...</td>\n",
       "      <td>16.0</td>\n",
       "      <td>Negligible</td>\n",
       "      <td>18.795809</td>\n",
       "      <td>Low</td>\n",
       "    </tr>\n",
       "    <tr>\n",
       "      <th>137</th>\n",
       "      <td>XYL</td>\n",
       "      <td>2022</td>\n",
       "      <td>2</td>\n",
       "      <td>good morning everyone welcome xylems second qu...</td>\n",
       "      <td>16.0</td>\n",
       "      <td>Negligible</td>\n",
       "      <td>18.795809</td>\n",
       "      <td>Low</td>\n",
       "    </tr>\n",
       "  </tbody>\n",
       "</table>\n",
       "<p>138 rows × 8 columns</p>\n",
       "</div>"
      ],
      "text/plain": [
       "    symbol  year  quarter                                     transcript_esg  \\\n",
       "0      ADP  2022        1  call reference nongaap financial measures beli...   \n",
       "1      ADP  2022        1  call reference nongaap financial measures beli...   \n",
       "2     ADSK  2022        1  addition replay call available autodeskcominve...   \n",
       "3     ADSK  2022        3  addition replay call available autodeskcominve...   \n",
       "4     ADSK  2022        4  addition replay call available autodeskcominve...   \n",
       "..     ...   ...      ...                                                ...   \n",
       "133   VRTX  2022        2  reshma kewalramani vertexs ceo president stuar...   \n",
       "134   VRTX  2022        3  reshma kewalramani vertexs ceo president stuar...   \n",
       "135   XRAY  2022        1  begin let start im excited took role interim c...   \n",
       "136    XYL  2022        2  good morning everyone welcome xylems second qu...   \n",
       "137    XYL  2022        2  good morning everyone welcome xylems second qu...   \n",
       "\n",
       "     esg_score esg_risk_level  esg_score_pred esg_risk_level_pred  \n",
       "0         14.0            Low       15.461826                 Low  \n",
       "1         14.0            Low       15.461826                 Low  \n",
       "2         16.0     Negligible       15.000785                 Low  \n",
       "3         16.0     Negligible       24.928467              Medium  \n",
       "4         16.0     Negligible       14.814432                 Low  \n",
       "..         ...            ...             ...                 ...  \n",
       "133       23.0         Medium       24.928530              Medium  \n",
       "134       23.0         Medium       24.928534              Medium  \n",
       "135       16.0     Negligible       24.928528              Medium  \n",
       "136       16.0     Negligible       18.795809                 Low  \n",
       "137       16.0     Negligible       18.795809                 Low  \n",
       "\n",
       "[138 rows x 8 columns]"
      ]
     },
     "execution_count": 38,
     "metadata": {},
     "output_type": "execute_result"
    }
   ],
   "source": [
    "get_results(test)"
   ]
  },
  {
   "cell_type": "code",
   "execution_count": 39,
   "metadata": {},
   "outputs": [
    {
     "data": {
      "text/plain": [
       "0.4420289855072464"
      ]
     },
     "execution_count": 39,
     "metadata": {},
     "output_type": "execute_result"
    }
   ],
   "source": [
    "sum(test.esg_risk_level == test.esg_risk_level_pred) / test.shape[0]"
   ]
  },
  {
   "cell_type": "code",
   "execution_count": 40,
   "metadata": {},
   "outputs": [],
   "source": [
    "# train.to_csv(f\"results/bert_finetuned/bert_finetuned_{timestamp}_train.csv\")\n",
    "# test.to_csv(f\"results/bert_finetuned/bert_finetuned_{timestamp}_test.csv\")"
   ]
  },
  {
   "cell_type": "code",
   "execution_count": null,
   "metadata": {},
   "outputs": [],
   "source": []
  }
 ],
 "metadata": {
  "kernelspec": {
   "display_name": "base",
   "language": "python",
   "name": "python3"
  },
  "language_info": {
   "codemirror_mode": {
    "name": "ipython",
    "version": 3
   },
   "file_extension": ".py",
   "mimetype": "text/x-python",
   "name": "python",
   "nbconvert_exporter": "python",
   "pygments_lexer": "ipython3",
   "version": "3.11.8"
  }
 },
 "nbformat": 4,
 "nbformat_minor": 2
}
