{
 "cells": [
  {
   "cell_type": "code",
   "execution_count": 58,
   "metadata": {},
   "outputs": [],
   "source": [
    "import pandas as pd\n",
    "import torch\n",
    "from torch.utils.data import Dataset, DataLoader\n",
    "from transformers import AutoTokenizer, BertForSequenceClassification, AdamW\n",
    "from sklearn.preprocessing import LabelEncoder\n",
    "from sklearn.metrics import mean_squared_error\n",
    "from tqdm import tqdm"
   ]
  },
  {
   "cell_type": "markdown",
   "metadata": {},
   "source": [
    "### Load data"
   ]
  },
  {
   "cell_type": "code",
   "execution_count": 59,
   "metadata": {},
   "outputs": [],
   "source": [
    "# Load data\n",
    "train = pd.read_csv('../../data/processed/train_esg_shortened.csv')\n",
    "test = pd.read_csv('../../data/processed/test_esg_shortened.csv')"
   ]
  },
  {
   "cell_type": "code",
   "execution_count": 60,
   "metadata": {},
   "outputs": [
    {
     "data": {
      "text/html": [
       "<div>\n",
       "<style scoped>\n",
       "    .dataframe tbody tr th:only-of-type {\n",
       "        vertical-align: middle;\n",
       "    }\n",
       "\n",
       "    .dataframe tbody tr th {\n",
       "        vertical-align: top;\n",
       "    }\n",
       "\n",
       "    .dataframe thead th {\n",
       "        text-align: right;\n",
       "    }\n",
       "</style>\n",
       "<table border=\"1\" class=\"dataframe\">\n",
       "  <thead>\n",
       "    <tr style=\"text-align: right;\">\n",
       "      <th></th>\n",
       "      <th>symbol</th>\n",
       "      <th>year</th>\n",
       "      <th>quarter</th>\n",
       "      <th>transcript_esg</th>\n",
       "      <th>esg_score</th>\n",
       "      <th>esg_risk_level</th>\n",
       "    </tr>\n",
       "  </thead>\n",
       "  <tbody>\n",
       "    <tr>\n",
       "      <th>0</th>\n",
       "      <td>A</td>\n",
       "      <td>2022</td>\n",
       "      <td>1</td>\n",
       "      <td>thank emily welcome everyone agilents conferen...</td>\n",
       "      <td>15.0</td>\n",
       "      <td>Low</td>\n",
       "    </tr>\n",
       "    <tr>\n",
       "      <th>1</th>\n",
       "      <td>A</td>\n",
       "      <td>2022</td>\n",
       "      <td>3</td>\n",
       "      <td>thank hannah welcome everyone agilents confere...</td>\n",
       "      <td>15.0</td>\n",
       "      <td>Low</td>\n",
       "    </tr>\n",
       "    <tr>\n",
       "      <th>2</th>\n",
       "      <td>AAPL</td>\n",
       "      <td>2022</td>\n",
       "      <td>1</td>\n",
       "      <td>good day welcome apple q fy earnings conferenc...</td>\n",
       "      <td>17.0</td>\n",
       "      <td>Low</td>\n",
       "    </tr>\n",
       "    <tr>\n",
       "      <th>3</th>\n",
       "      <td>AAPL</td>\n",
       "      <td>2022</td>\n",
       "      <td>2</td>\n",
       "      <td>good day welcome apple q fy earnings conferenc...</td>\n",
       "      <td>17.0</td>\n",
       "      <td>Low</td>\n",
       "    </tr>\n",
       "    <tr>\n",
       "      <th>4</th>\n",
       "      <td>AAPL</td>\n",
       "      <td>2022</td>\n",
       "      <td>3</td>\n",
       "      <td>good day welcome apple q fy earnings conferenc...</td>\n",
       "      <td>17.0</td>\n",
       "      <td>Low</td>\n",
       "    </tr>\n",
       "    <tr>\n",
       "      <th>...</th>\n",
       "      <td>...</td>\n",
       "      <td>...</td>\n",
       "      <td>...</td>\n",
       "      <td>...</td>\n",
       "      <td>...</td>\n",
       "      <td>...</td>\n",
       "    </tr>\n",
       "    <tr>\n",
       "      <th>542</th>\n",
       "      <td>WMT</td>\n",
       "      <td>2023</td>\n",
       "      <td>3</td>\n",
       "      <td>followed questionandanswer session turn call d...</td>\n",
       "      <td>25.0</td>\n",
       "      <td>Medium</td>\n",
       "    </tr>\n",
       "    <tr>\n",
       "      <th>543</th>\n",
       "      <td>YUM</td>\n",
       "      <td>2022</td>\n",
       "      <td>1</td>\n",
       "      <td>welcome q yum brand earnings conference call n...</td>\n",
       "      <td>21.0</td>\n",
       "      <td>Medium</td>\n",
       "    </tr>\n",
       "    <tr>\n",
       "      <th>544</th>\n",
       "      <td>YUM</td>\n",
       "      <td>2022</td>\n",
       "      <td>2</td>\n",
       "      <td>get started would like remind conference call ...</td>\n",
       "      <td>21.0</td>\n",
       "      <td>Medium</td>\n",
       "    </tr>\n",
       "    <tr>\n",
       "      <th>545</th>\n",
       "      <td>ZTS</td>\n",
       "      <td>2022</td>\n",
       "      <td>1</td>\n",
       "      <td>thank operator good morning everyone welcome z...</td>\n",
       "      <td>18.0</td>\n",
       "      <td>Low</td>\n",
       "    </tr>\n",
       "    <tr>\n",
       "      <th>546</th>\n",
       "      <td>ZTS</td>\n",
       "      <td>2022</td>\n",
       "      <td>2</td>\n",
       "      <td>thank good morning everyone welcome zoetis sec...</td>\n",
       "      <td>18.0</td>\n",
       "      <td>Low</td>\n",
       "    </tr>\n",
       "  </tbody>\n",
       "</table>\n",
       "<p>547 rows × 6 columns</p>\n",
       "</div>"
      ],
      "text/plain": [
       "    symbol  year  quarter                                     transcript_esg  \\\n",
       "0        A  2022        1  thank emily welcome everyone agilents conferen...   \n",
       "1        A  2022        3  thank hannah welcome everyone agilents confere...   \n",
       "2     AAPL  2022        1  good day welcome apple q fy earnings conferenc...   \n",
       "3     AAPL  2022        2  good day welcome apple q fy earnings conferenc...   \n",
       "4     AAPL  2022        3  good day welcome apple q fy earnings conferenc...   \n",
       "..     ...   ...      ...                                                ...   \n",
       "542    WMT  2023        3  followed questionandanswer session turn call d...   \n",
       "543    YUM  2022        1  welcome q yum brand earnings conference call n...   \n",
       "544    YUM  2022        2  get started would like remind conference call ...   \n",
       "545    ZTS  2022        1  thank operator good morning everyone welcome z...   \n",
       "546    ZTS  2022        2  thank good morning everyone welcome zoetis sec...   \n",
       "\n",
       "     esg_score esg_risk_level  \n",
       "0         15.0            Low  \n",
       "1         15.0            Low  \n",
       "2         17.0            Low  \n",
       "3         17.0            Low  \n",
       "4         17.0            Low  \n",
       "..         ...            ...  \n",
       "542       25.0         Medium  \n",
       "543       21.0         Medium  \n",
       "544       21.0         Medium  \n",
       "545       18.0            Low  \n",
       "546       18.0            Low  \n",
       "\n",
       "[547 rows x 6 columns]"
      ]
     },
     "execution_count": 60,
     "metadata": {},
     "output_type": "execute_result"
    }
   ],
   "source": [
    "train"
   ]
  },
  {
   "cell_type": "code",
   "execution_count": 61,
   "metadata": {},
   "outputs": [
    {
     "data": {
      "image/png": "[encoded data removed]",
      "text/plain": [
       "<Figure size 1000x600 with 1 Axes>"
      ]
     },
     "metadata": {},
     "output_type": "display_data"
    }
   ],
   "source": [
    "import matplotlib.pyplot as plt\n",
    "\n",
    "# Plotting the distribution of 'esg_score'\n",
    "plt.figure(figsize=(10, 6))\n",
    "plt.hist(train['esg_score'], bins=30, color='blue', alpha=0.7)\n",
    "plt.title('Distribution of ESG Scores in Train dataset')\n",
    "plt.xlabel('ESG Score')\n",
    "plt.ylabel('Frequency')\n",
    "plt.grid(True)\n",
    "plt.show()"
   ]
  },
  {
   "cell_type": "code",
   "execution_count": 62,
   "metadata": {},
   "outputs": [
    {
     "data": {
      "image/png": "[encoded data removed]",
      "text/plain": [
       "<Figure size 1000x600 with 1 Axes>"
      ]
     },
     "metadata": {},
     "output_type": "display_data"
    }
   ],
   "source": [
    "import matplotlib.pyplot as plt\n",
    "\n",
    "# Plotting the distribution of 'esg_score'\n",
    "plt.figure(figsize=(10, 6))\n",
    "plt.hist(test['esg_score'], bins=30, color='blue', alpha=0.7)\n",
    "plt.title('Distribution of ESG Scores in Test dataset')\n",
    "plt.xlabel('ESG Score')\n",
    "plt.ylabel('Frequency')\n",
    "plt.grid(True)\n",
    "plt.show()"
   ]
  },
  {
   "cell_type": "code",
   "execution_count": 63,
   "metadata": {},
   "outputs": [
    {
     "data": {
      "image/png": "[encoded data removed]",
      "text/plain": [
       "<Figure size 1000x600 with 1 Axes>"
      ]
     },
     "metadata": {},
     "output_type": "display_data"
    }
   ],
   "source": [
    "import matplotlib.pyplot as plt\n",
    "\n",
    "# Plotting the distribution of 'esg_score'\n",
    "plt.figure(figsize=(10, 6))\n",
    "plt.hist(train['esg_score'], bins=30, color='blue', alpha=0.7)\n",
    "plt.title('Distribution of ESG Scores in Train dataset')\n",
    "plt.xlabel('ESG Score')\n",
    "plt.ylabel('Frequency')\n",
    "plt.grid(True)\n",
    "plt.show()"
   ]
  },
  {
   "cell_type": "code",
   "execution_count": 64,
   "metadata": {},
   "outputs": [],
   "source": [
    "# Assuming esg_score is categorical, if not, this section needs to be adjusted for regression\n",
    "train['esg_score'] = train['esg_score'].astype(int)  # Ensure esg_score is integer if it's categorical\n",
    "test['esg_score'] = test['esg_score'].astype(int)"
   ]
  },
  {
   "cell_type": "markdown",
   "metadata": {},
   "source": [
    "### Load Tokenizer and Encode Text"
   ]
  },
  {
   "cell_type": "code",
   "execution_count": 65,
   "metadata": {},
   "outputs": [],
   "source": [
    "# Load tokenizer\n",
    "tokenizer = AutoTokenizer.from_pretrained('nbroad/ESG-BERT')\n",
    "\n",
    "def encode_texts(texts):\n",
    "    # Ensure all texts are strings and handle any potential None or NaN values\n",
    "    texts = [str(text) if text is not None else \"\" for text in texts]\n",
    "    # Use the tokenizer on the cleaned list of texts\n",
    "    return tokenizer(texts, padding=True, truncation=True, max_length=512, return_tensors='pt')"
   ]
  },
  {
   "cell_type": "code",
   "execution_count": 66,
   "metadata": {},
   "outputs": [],
   "source": [
    "# Encode and handle labels\n",
    "train_encodings = encode_texts(train['transcript_esg'].tolist())\n",
    "test_encodings = encode_texts(test['transcript_esg'].tolist())"
   ]
  },
  {
   "cell_type": "markdown",
   "metadata": {},
   "source": [
    "### Define Dataset class"
   ]
  },
  {
   "cell_type": "code",
   "execution_count": 67,
   "metadata": {},
   "outputs": [],
   "source": [
    "# Dataset class\n",
    "class ESGDataset(Dataset):\n",
    "    def __init__(self, encodings, labels):\n",
    "        self.encodings = encodings\n",
    "        self.labels = torch.tensor(labels, dtype=torch.float)  # Use float for regression\n",
    "\n",
    "    def __getitem__(self, idx):\n",
    "        item = {key: val[idx].clone().detach() for key, val in self.encodings.items()}\n",
    "        item['labels'] = self.labels[idx]\n",
    "        return item\n",
    "\n",
    "    def __len__(self):\n",
    "        return len(self.labels)\n"
   ]
  },
  {
   "cell_type": "code",
   "execution_count": 68,
   "metadata": {},
   "outputs": [],
   "source": [
    "# Create dataset  \n",
    "train_dataset = ESGDataset(train_encodings, train['esg_score'].tolist())\n",
    "test_dataset = ESGDataset(test_encodings, test['esg_score'].tolist())"
   ]
  },
  {
   "cell_type": "markdown",
   "metadata": {},
   "source": [
    "### Prepare Model "
   ]
  },
  {
   "cell_type": "code",
   "execution_count": 69,
   "metadata": {},
   "outputs": [
    {
     "name": "stderr",
     "output_type": "stream",
     "text": [
      "/Users/owenwong/anaconda3/lib/python3.11/site-packages/transformers/optimization.py:411: FutureWarning: This implementation of AdamW is deprecated and will be removed in a future version. Use the PyTorch implementation torch.optim.AdamW instead, or set `no_deprecation_warning=True` to disable this warning\n",
      "  warnings.warn(\n"
     ]
    }
   ],
   "source": [
    "model = BertForSequenceClassification.from_pretrained('nbroad/ESG-BERT')\n",
    "\n",
    "# For regression, we need to remove the classification head that outputs logits for classes\n",
    "model.classifier = torch.nn.Linear(model.config.hidden_size, 1)\n",
    "optimizer = AdamW(model.parameters(), lr=5e-5)\n",
    "criterion = torch.nn.MSELoss()  # Use MSELoss for regression"
   ]
  },
  {
   "cell_type": "code",
   "execution_count": 70,
   "metadata": {},
   "outputs": [
    {
     "data": {
      "text/plain": [
       "BertForSequenceClassification(\n",
       "  (bert): BertModel(\n",
       "    (embeddings): BertEmbeddings(\n",
       "      (word_embeddings): Embedding(30522, 768, padding_idx=0)\n",
       "      (position_embeddings): Embedding(512, 768)\n",
       "      (token_type_embeddings): Embedding(2, 768)\n",
       "      (LayerNorm): LayerNorm((768,), eps=1e-12, elementwise_affine=True)\n",
       "      (dropout): Dropout(p=0.1, inplace=False)\n",
       "    )\n",
       "    (encoder): BertEncoder(\n",
       "      (layer): ModuleList(\n",
       "        (0-11): 12 x BertLayer(\n",
       "          (attention): BertAttention(\n",
       "            (self): BertSelfAttention(\n",
       "              (query): Linear(in_features=768, out_features=768, bias=True)\n",
       "              (key): Linear(in_features=768, out_features=768, bias=True)\n",
       "              (value): Linear(in_features=768, out_features=768, bias=True)\n",
       "              (dropout): Dropout(p=0.1, inplace=False)\n",
       "            )\n",
       "            (output): BertSelfOutput(\n",
       "              (dense): Linear(in_features=768, out_features=768, bias=True)\n",
       "              (LayerNorm): LayerNorm((768,), eps=1e-12, elementwise_affine=True)\n",
       "              (dropout): Dropout(p=0.1, inplace=False)\n",
       "            )\n",
       "          )\n",
       "          (intermediate): BertIntermediate(\n",
       "            (dense): Linear(in_features=768, out_features=3072, bias=True)\n",
       "            (intermediate_act_fn): GELUActivation()\n",
       "          )\n",
       "          (output): BertOutput(\n",
       "            (dense): Linear(in_features=3072, out_features=768, bias=True)\n",
       "            (LayerNorm): LayerNorm((768,), eps=1e-12, elementwise_affine=True)\n",
       "            (dropout): Dropout(p=0.1, inplace=False)\n",
       "          )\n",
       "        )\n",
       "      )\n",
       "    )\n",
       "    (pooler): BertPooler(\n",
       "      (dense): Linear(in_features=768, out_features=768, bias=True)\n",
       "      (activation): Tanh()\n",
       "    )\n",
       "  )\n",
       "  (dropout): Dropout(p=0.1, inplace=False)\n",
       "  (classifier): Linear(in_features=768, out_features=1, bias=True)\n",
       ")"
      ]
     },
     "execution_count": 70,
     "metadata": {},
     "output_type": "execute_result"
    }
   ],
   "source": [
    "# Move model to device\n",
    "device = torch.device(\"cpu\")\n",
    "model.to(device)"
   ]
  },
  {
   "cell_type": "markdown",
   "metadata": {},
   "source": [
    "### Training Loop"
   ]
  },
  {
   "cell_type": "code",
   "execution_count": 71,
   "metadata": {},
   "outputs": [],
   "source": [
    "from torch.utils.data import WeightedRandomSampler\n",
    "\n",
    "# Create a weighted sampler\n",
    "\n",
    "# Calculate sample weights based on the inverse frequency of the esg_scores\n",
    "score_counts = train['esg_score'].value_counts()\n",
    "score_weights = len(train) / (score_counts * len(score_counts))\n",
    "train['sample_weight'] = train['esg_score'].map(score_weights)\n",
    "\n",
    "# Convert sample weights to a tensor\n",
    "sample_weights_tensor = torch.tensor(train['sample_weight'].values, dtype=torch.float)\n",
    "\n",
    "weighted_sampler = WeightedRandomSampler(\n",
    "    weights=sample_weights_tensor,\n",
    "    num_samples=len(sample_weights_tensor),\n",
    "    replacement=True\n",
    ")\n",
    "\n",
    "# Create your DataLoader with the sampler\n",
    "train_loader = DataLoader(train_dataset, batch_size=16, sampler=weighted_sampler)"
   ]
  },
  {
   "cell_type": "code",
   "execution_count": 73,
   "metadata": {},
   "outputs": [
    {
     "name": "stderr",
     "output_type": "stream",
     "text": [
      "Epoch 1: 100%|██████████| 35/35 [10:15<00:00, 17.60s/it]\n",
      "Epoch 2: 100%|██████████| 35/35 [12:46<00:00, 21.89s/it]\n",
      "Epoch 3: 100%|██████████| 35/35 [12:21<00:00, 21.18s/it]\n"
     ]
    }
   ],
   "source": [
    "# Training loop\n",
    "model.train()\n",
    "for epoch in range(3):\n",
    "    for batch in tqdm(train_loader, desc=f\"Epoch {epoch+1}\"):\n",
    "        optimizer.zero_grad()\n",
    "        input_ids = batch['input_ids'].to(device)\n",
    "        attention_mask = batch['attention_mask'].to(device)\n",
    "        labels = batch['labels'].to(device).unsqueeze(1)  # Add an extra dimension to labels\n",
    "\n",
    "        outputs = model(input_ids, attention_mask=attention_mask)\n",
    "        loss = criterion(outputs.logits, labels)  # Do not convert logits to float for MSE loss\n",
    "        \n",
    "        loss.backward()\n",
    "        optimizer.step()\n"
   ]
  },
  {
   "cell_type": "markdown",
   "metadata": {},
   "source": [
    "### Evaluation "
   ]
  },
  {
   "cell_type": "code",
   "execution_count": 76,
   "metadata": {},
   "outputs": [
    {
     "data": {
      "application/vnd.jupyter.widget-view+json": {
       "model_id": "d83e279e2b0d47b0b4453699430ead93",
       "version_major": 2,
       "version_minor": 0
      },
      "text/plain": [
       "Evaluating:   0%|          | 0/9 [00:00<?, ?it/s]"
      ]
     },
     "metadata": {},
     "output_type": "display_data"
    },
    {
     "name": "stdout",
     "output_type": "stream",
     "text": [
      "MSE: 62.93314751217486\n",
      "MAE: 5.680517113727072\n"
     ]
    }
   ],
   "source": [
    "from sklearn.metrics import mean_squared_error, mean_absolute_error\n",
    "from torch.utils.data import DataLoader\n",
    "from tqdm.auto import tqdm\n",
    "\n",
    "# Define the evaluation function\n",
    "def evaluate_model(model, dataset, criterion, device):\n",
    "    model.eval()\n",
    "    loader = DataLoader(dataset, batch_size=16)\n",
    "    predictions = []\n",
    "    actuals = []\n",
    "    total_loss = 0\n",
    "\n",
    "    with torch.no_grad():\n",
    "        for batch in tqdm(loader, desc='Evaluating'):\n",
    "            input_ids = batch['input_ids'].to(device)\n",
    "            attention_mask = batch['attention_mask'].to(device)\n",
    "            labels = batch['labels'].to(device).unsqueeze(1)\n",
    "\n",
    "            outputs = model(input_ids, attention_mask=attention_mask)\n",
    "            loss = criterion(outputs.logits, labels)\n",
    "            total_loss += loss.item()\n",
    "\n",
    "            # Collect actual and predicted values for metrics\n",
    "            predictions.extend(outputs.logits.squeeze().tolist())\n",
    "            actuals.extend(labels.squeeze().tolist())\n",
    "\n",
    "    mse = mean_squared_error(actuals, predictions)\n",
    "    mae = mean_absolute_error(actuals, predictions)\n",
    "\n",
    "    return mse, mae, predictions, actuals\n",
    "\n",
    "# Evaluate the model\n",
    "mse, mae, predictions, actuals = evaluate_model(model, test_dataset, criterion, device)\n",
    "\n",
    "# Output the MSE and MAE\n",
    "print(f\"MSE: {mse}\")\n",
    "print(f\"MAE: {mae}\")"
   ]
  },
  {
   "cell_type": "code",
   "execution_count": 77,
   "metadata": {},
   "outputs": [
    {
     "data": {
      "text/plain": [
       "'../../data/predicted/ESG_Bert_score_predicted_results.csv'"
      ]
     },
     "execution_count": 77,
     "metadata": {},
     "output_type": "execute_result"
    }
   ],
   "source": [
    "# Save the results to a CSV file\n",
    "test['predicted_esg_score'] = predictions\n",
    "results_csv_path = '../../data/predicted/ESG_Bert_score_predicted_results.csv'\n",
    "test.to_csv(results_csv_path, index=False)\n",
    "\n",
    "# Provide the path to the saved CSV file\n",
    "results_csv_path"
   ]
  },
  {
   "cell_type": "markdown",
   "metadata": {},
   "source": [
    "### Original function, abanadoned\n",
    "```\n",
    "def evaluate(model, dataset, criterion, device):\n",
    "    model.eval()\n",
    "    loader = DataLoader(dataset, batch_size=16)\n",
    "    total_loss = 0\n",
    "    with torch.no_grad():\n",
    "        for batch in loader:\n",
    "            input_ids = batch['input_ids'].to(device)\n",
    "            attention_mask = batch['attention_mask'].to(device)\n",
    "            labels = batch['labels'].to(device).unsqueeze(1)  # Add an extra dimension to labels\n",
    "\n",
    "            outputs = model(input_ids, attention_mask=attention_mask)\n",
    "            loss = criterion(outputs.logits, labels)  # Do not convert logits to float for MSE loss\n",
    "            total_loss += loss.item()\n",
    "\n",
    "    return total_loss / len(loader)\n",
    "```"
   ]
  },
  {
   "cell_type": "code",
   "execution_count": 75,
   "metadata": {},
   "outputs": [
    {
     "name": "stdout",
     "output_type": "stream",
     "text": [
      "Train Loss: 81.96169256482806, Test Loss: 61.21079428990682\n"
     ]
    }
   ],
   "source": [
    "train_loss = evaluate(model, train_dataset, criterion, device)\n",
    "test_loss = evaluate(model, test_dataset, criterion, device)\n",
    "print(f\"Train Loss: {train_loss}, Test Loss: {test_loss}\")"
   ]
  }
 ],
 "metadata": {
  "kernelspec": {
   "display_name": "base",
   "language": "python",
   "name": "python3"
  },
  "language_info": {
   "codemirror_mode": {
    "name": "ipython",
    "version": 3
   },
   "file_extension": ".py",
   "mimetype": "text/x-python",
   "name": "python",
   "nbconvert_exporter": "python",
   "pygments_lexer": "ipython3",
   "version": "3.11.5"
  }
 },
 "nbformat": 4,
 "nbformat_minor": 2
}
