{
 "cells": [
  {
   "cell_type": "markdown",
   "metadata": {},
   "source": [
    "# Model inferencing (fine-tuned Llama-2-7b-chat)"
   ]
  },
  {
   "cell_type": "code",
   "execution_count": 1,
   "metadata": {},
   "outputs": [],
   "source": [
    "import os\n",
    "import re\n",
    "import torch\n",
    "import pandas as pd\n",
    "import warnings\n",
    "from datasets import Dataset\n",
    "from peft import PeftModel\n",
    "from tqdm import tqdm\n",
    "from transformers import (\n",
    "    AutoModelForCausalLM,\n",
    "    AutoTokenizer,\n",
    "    BitsAndBytesConfig,\n",
    "    pipeline,\n",
    ")\n",
    "\n",
    "os.chdir(\"../../\")   # current location is /notebooks/llama"
   ]
  },
  {
   "cell_type": "code",
   "execution_count": 2,
   "metadata": {},
   "outputs": [
    {
     "data": {
      "text/plain": [
       "'c:\\\\Users\\\\HERO\\\\OneDrive - connect.hku.hk\\\\!HKU Course\\\\FINA4350 Text Analytics and Natural Language Processing in Finance and Fintech\\\\proj1\\\\fina-nlp-project'"
      ]
     },
     "execution_count": 2,
     "metadata": {},
     "output_type": "execute_result"
    }
   ],
   "source": [
    "pwd"
   ]
  },
  {
   "cell_type": "markdown",
   "metadata": {},
   "source": [
    "### Load and preprocess testing data"
   ]
  },
  {
   "cell_type": "code",
   "execution_count": 2,
   "metadata": {},
   "outputs": [
    {
     "name": "stdout",
     "output_type": "stream",
     "text": [
      "(138, 6)\n"
     ]
    }
   ],
   "source": [
    "test_path = \"data/processed/test_esg_shortened.csv\"\n",
    "df_test = pd.read_csv(test_path)\n",
    "print(df_test.shape)"
   ]
  },
  {
   "cell_type": "code",
   "execution_count": 3,
   "metadata": {},
   "outputs": [
    {
     "data": {
      "text/html": [
       "<div>\n",
       "<style scoped>\n",
       "    .dataframe tbody tr th:only-of-type {\n",
       "        vertical-align: middle;\n",
       "    }\n",
       "\n",
       "    .dataframe tbody tr th {\n",
       "        vertical-align: top;\n",
       "    }\n",
       "\n",
       "    .dataframe thead th {\n",
       "        text-align: right;\n",
       "    }\n",
       "</style>\n",
       "<table border=\"1\" class=\"dataframe\">\n",
       "  <thead>\n",
       "    <tr style=\"text-align: right;\">\n",
       "      <th></th>\n",
       "      <th>symbol</th>\n",
       "      <th>year</th>\n",
       "      <th>quarter</th>\n",
       "      <th>transcript_esg</th>\n",
       "      <th>esg_score</th>\n",
       "      <th>esg_risk_level</th>\n",
       "    </tr>\n",
       "  </thead>\n",
       "  <tbody>\n",
       "    <tr>\n",
       "      <th>0</th>\n",
       "      <td>ADP</td>\n",
       "      <td>2022</td>\n",
       "      <td>1</td>\n",
       "      <td>call reference nongaap financial measures beli...</td>\n",
       "      <td>14.0</td>\n",
       "      <td>Low</td>\n",
       "    </tr>\n",
       "    <tr>\n",
       "      <th>1</th>\n",
       "      <td>ADP</td>\n",
       "      <td>2022</td>\n",
       "      <td>1</td>\n",
       "      <td>call reference nongaap financial measures beli...</td>\n",
       "      <td>14.0</td>\n",
       "      <td>Low</td>\n",
       "    </tr>\n",
       "    <tr>\n",
       "      <th>2</th>\n",
       "      <td>ADSK</td>\n",
       "      <td>2022</td>\n",
       "      <td>1</td>\n",
       "      <td>addition replay call available autodeskcominve...</td>\n",
       "      <td>16.0</td>\n",
       "      <td>Negligible</td>\n",
       "    </tr>\n",
       "    <tr>\n",
       "      <th>3</th>\n",
       "      <td>ADSK</td>\n",
       "      <td>2022</td>\n",
       "      <td>3</td>\n",
       "      <td>addition replay call available autodeskcominve...</td>\n",
       "      <td>16.0</td>\n",
       "      <td>Negligible</td>\n",
       "    </tr>\n",
       "    <tr>\n",
       "      <th>4</th>\n",
       "      <td>ADSK</td>\n",
       "      <td>2022</td>\n",
       "      <td>4</td>\n",
       "      <td>addition replay call available autodeskcominve...</td>\n",
       "      <td>16.0</td>\n",
       "      <td>Negligible</td>\n",
       "    </tr>\n",
       "  </tbody>\n",
       "</table>\n",
       "</div>"
      ],
      "text/plain": [
       "  symbol  year  quarter                                     transcript_esg  \\\n",
       "0    ADP  2022        1  call reference nongaap financial measures beli...   \n",
       "1    ADP  2022        1  call reference nongaap financial measures beli...   \n",
       "2   ADSK  2022        1  addition replay call available autodeskcominve...   \n",
       "3   ADSK  2022        3  addition replay call available autodeskcominve...   \n",
       "4   ADSK  2022        4  addition replay call available autodeskcominve...   \n",
       "\n",
       "   esg_score esg_risk_level  \n",
       "0       14.0            Low  \n",
       "1       14.0            Low  \n",
       "2       16.0     Negligible  \n",
       "3       16.0     Negligible  \n",
       "4       16.0     Negligible  "
      ]
     },
     "execution_count": 3,
     "metadata": {},
     "output_type": "execute_result"
    }
   ],
   "source": [
    "df_test.head()"
   ]
  },
  {
   "cell_type": "code",
   "execution_count": 4,
   "metadata": {},
   "outputs": [
    {
     "data": {
      "text/html": [
       "<div>\n",
       "<style scoped>\n",
       "    .dataframe tbody tr th:only-of-type {\n",
       "        vertical-align: middle;\n",
       "    }\n",
       "\n",
       "    .dataframe tbody tr th {\n",
       "        vertical-align: top;\n",
       "    }\n",
       "\n",
       "    .dataframe thead th {\n",
       "        text-align: right;\n",
       "    }\n",
       "</style>\n",
       "<table border=\"1\" class=\"dataframe\">\n",
       "  <thead>\n",
       "    <tr style=\"text-align: right;\">\n",
       "      <th></th>\n",
       "      <th>transcript_esg</th>\n",
       "      <th>prompt</th>\n",
       "    </tr>\n",
       "  </thead>\n",
       "  <tbody>\n",
       "    <tr>\n",
       "      <th>0</th>\n",
       "      <td>call reference nongaap financial measures beli...</td>\n",
       "      <td>&lt;s&gt;[INST] &lt;&lt;SYS&gt;&gt;\\nYour task is to predict the...</td>\n",
       "    </tr>\n",
       "    <tr>\n",
       "      <th>1</th>\n",
       "      <td>call reference nongaap financial measures beli...</td>\n",
       "      <td>&lt;s&gt;[INST] &lt;&lt;SYS&gt;&gt;\\nYour task is to predict the...</td>\n",
       "    </tr>\n",
       "    <tr>\n",
       "      <th>2</th>\n",
       "      <td>addition replay call available autodeskcominve...</td>\n",
       "      <td>&lt;s&gt;[INST] &lt;&lt;SYS&gt;&gt;\\nYour task is to predict the...</td>\n",
       "    </tr>\n",
       "    <tr>\n",
       "      <th>3</th>\n",
       "      <td>addition replay call available autodeskcominve...</td>\n",
       "      <td>&lt;s&gt;[INST] &lt;&lt;SYS&gt;&gt;\\nYour task is to predict the...</td>\n",
       "    </tr>\n",
       "    <tr>\n",
       "      <th>4</th>\n",
       "      <td>addition replay call available autodeskcominve...</td>\n",
       "      <td>&lt;s&gt;[INST] &lt;&lt;SYS&gt;&gt;\\nYour task is to predict the...</td>\n",
       "    </tr>\n",
       "  </tbody>\n",
       "</table>\n",
       "</div>"
      ],
      "text/plain": [
       "                                      transcript_esg  \\\n",
       "0  call reference nongaap financial measures beli...   \n",
       "1  call reference nongaap financial measures beli...   \n",
       "2  addition replay call available autodeskcominve...   \n",
       "3  addition replay call available autodeskcominve...   \n",
       "4  addition replay call available autodeskcominve...   \n",
       "\n",
       "                                              prompt  \n",
       "0  <s>[INST] <<SYS>>\\nYour task is to predict the...  \n",
       "1  <s>[INST] <<SYS>>\\nYour task is to predict the...  \n",
       "2  <s>[INST] <<SYS>>\\nYour task is to predict the...  \n",
       "3  <s>[INST] <<SYS>>\\nYour task is to predict the...  \n",
       "4  <s>[INST] <<SYS>>\\nYour task is to predict the...  "
      ]
     },
     "execution_count": 4,
     "metadata": {},
     "output_type": "execute_result"
    }
   ],
   "source": [
    "def get_question_prompt(transcript_esg):\n",
    "    system_msg = \"<<SYS>>\\n\" \\\n",
    "        + \"Your task is to predict the ESG risk level based on earning calls transcripts.\\n\" \\\n",
    "        + \"The ESG Risk Ratings are categorized across five risk levels: negligible (0-10), low (10-20), medium (20-30), high (30-40), and severe (40+).\\n\" \\\n",
    "        + \"The predicted risk level should always be one of the following: ['Negligible', 'Low', 'Medium', 'High', 'Severe'].\\n\" \\\n",
    "        + \"When provided with an earning calls transcript, you should output the predicted ESG risk level along with the corresponding ESG score.\\n\" \\\n",
    "        + \"Please format your answer as \\\"{score}, {label}\\\", where the score is the ESG score rounded to one decimal place, and the label is the predicted ESG risk level.\\n\" \\\n",
    "        + \"Ensure that your predicted risk level is consistent with the predicted score.\\n\" \\\n",
    "        + \"<</SYS>>\\n\\n\"\n",
    "    prompt = f\"<s>[INST] {system_msg}###User: {transcript_esg}###You: [/INST]</s>\"\n",
    "    return prompt\n",
    "\n",
    "df_test[\"prompt\"] = df_test[\"transcript_esg\"].apply(get_question_prompt)\n",
    "df_test[[\"transcript_esg\", \"prompt\"]].head()"
   ]
  },
  {
   "cell_type": "code",
   "execution_count": 5,
   "metadata": {},
   "outputs": [
    {
     "name": "stdout",
     "output_type": "stream",
     "text": [
      "<s>[INST] <<SYS>>\n",
      "Your task is to predict the ESG risk level based on earning calls transcripts.\n",
      "The ESG Risk Ratings are categorized across five risk levels: negligible (0-10), low (10-20), medium (20-30), high (30-40), and severe (40+).\n",
      "The predicted risk level should always be one of the following: ['Negligible', 'Low', 'Medium', 'High', 'Severe'].\n",
      "When provided with an earning calls transcript, you should output the predicted ESG risk level along with the corresponding ESG score.\n",
      "Please format your answer as \"{score}, {label}\", where the score is the ESG score rounded to one decimal place, and the label is the predicted ESG risk level.\n",
      "Ensure that your predicted risk level is consistent with the predicted score.\n",
      "<</SYS>>\n",
      "\n",
      "###User: call reference nongaap financial measures believe useful investors excludes impact certain items description items along reconciliation nongaap measures comparable gaap measures found earnings release todays call also contain forwardlooking statements refer future events involves risks encourage review filings sec additional information factors could cause actual results differ materially current expectations recall weve sharing sales productivity trends course pandemic im pleased report q well prepandemic levels reached result several months sooner expected expect continue look ahead fielded number questions past several months think might drive workers back labor force dont answer question tell continue see positive trends clients eager hire seeing workers return labor force even gradual result expect benefit abovenormal abovenormal level payspercontrol growth course year addition strong es performance peo delivered another stellar quarter revenue growth average worksite employee growth even better high expectations coming quarter multiple drivers outperformance peo including strong level hiring within client base resilient retention improved bookings performance mentioned earlier pleased momentum see building peo raising full year guidance accordingly id like also share annual hr tech conference weeks ago innovative diversity equity inclusion tool data cloud platform named top hr product recognition adds adps longstanding history award wins conference marking unprecedented seventh consecutive year adp honored innovative hcm technology probably tell number times weve highlighted data cloud velocity innovation increased significantly moving segments employer services revenue increased reported organic constant currency basis strong q es bookings performance record retention contributed performance though reminder continue lap lower revenues last year volumerelated businesses including recruiting background screening clients funding interest represented slight headwind quarter basis point decline average yield offset fantastic balanced growth driven client growth employment growth higher wages lapping payroll tax deferral last year es margin increased basis points strong revenue performance overall cost containment also raising es retention assuming decline basis points fy alltime highs versus prior outlook decline basis points bookings primarily function strong q performance continued assumption clients continue reengage marketplace may experience slight decline course year expect significantly clarity get calendar year end period typically see switching activity us payspercontrol making change outlook growth continue expect gradual recovery overall labor market growth q line expectations putting together consolidated outlook expect revenue grow following strong q performance expect remaining quarters grow closer higher prior forecast adjusted ebit margin expect increase basis points shared last quarter expect margin improvement back halfweighted specifically fourth quarter current expectation slight margin decline q q making change tax rate assumption changes expect growth adjusted diluted earnings per share think youve heard us say couple times pleased q results happy raising guidance early year still dynamic environment wide range potential outcomes believe guidance appropriately balanced given conditions however associates continue drive better expected sales results client satisfaction efficiency service implementation would see opportunity deliver additional upside outlook move qa wanted share two things first look forward meeting everyone perhaps virtually eventually person get back road meet shareholders investment community second much looking forward upcoming investor day couple weeks november run one largest businesses years tell always much happening adp underground although tends roll stable financial picture tell really lot excitement among associates things theyre working hope share excitement november###You: [/INST]</s>\n"
     ]
    }
   ],
   "source": [
    "dataset_test = Dataset.from_pandas(df_test)\n",
    "for entry in dataset_test:\n",
    "    print(entry[\"prompt\"])\n",
    "    break"
   ]
  },
  {
   "cell_type": "markdown",
   "metadata": {},
   "source": [
    "### Load fine-tuned model"
   ]
  },
  {
   "cell_type": "code",
   "execution_count": 6,
   "metadata": {},
   "outputs": [],
   "source": [
    "base_model = \"meta-llama/Llama-2-7b-chat-hf\""
   ]
  },
  {
   "cell_type": "code",
   "execution_count": 7,
   "metadata": {},
   "outputs": [],
   "source": [
    "tokenizer = AutoTokenizer.from_pretrained(base_model, trust_remote_code=True)\n",
    "tokenizer.pad_token = tokenizer.eos_token\n",
    "tokenizer.padding_side = \"right\""
   ]
  },
  {
   "cell_type": "code",
   "execution_count": 8,
   "metadata": {},
   "outputs": [],
   "source": [
    "compute_dtype = getattr(torch, \"float16\")\n",
    "\n",
    "quant_config = BitsAndBytesConfig(\n",
    "    load_in_4bit=True,\n",
    "    bnb_4bit_quant_type=\"nf4\",\n",
    "    bnb_4bit_compute_dtype=compute_dtype,\n",
    "    bnb_4bit_use_double_quant=False,\n",
    ")"
   ]
  },
  {
   "cell_type": "code",
   "execution_count": 9,
   "metadata": {},
   "outputs": [
    {
     "data": {
      "application/vnd.jupyter.widget-view+json": {
       "model_id": "fd57e883939d4f878475ab3a54186a3d",
       "version_major": 2,
       "version_minor": 0
      },
      "text/plain": [
       "Loading checkpoint shards:   0%|          | 0/2 [00:00<?, ?it/s]"
      ]
     },
     "metadata": {},
     "output_type": "display_data"
    }
   ],
   "source": [
    "base_model = AutoModelForCausalLM.from_pretrained(\n",
    "    base_model,\n",
    "    quantization_config=quant_config,\n",
    "    device_map=\"auto\"\n",
    ")\n",
    "base_model.config.use_cache = False\n",
    "base_model.config.pretraining_tp = 1"
   ]
  },
  {
   "cell_type": "code",
   "execution_count": 10,
   "metadata": {},
   "outputs": [
    {
     "data": {
      "text/plain": [
       "LlamaForCausalLM(\n",
       "  (model): LlamaModel(\n",
       "    (embed_tokens): Embedding(32000, 4096)\n",
       "    (layers): ModuleList(\n",
       "      (0-31): 32 x LlamaDecoderLayer(\n",
       "        (self_attn): LlamaSdpaAttention(\n",
       "          (q_proj): Linear4bit(in_features=4096, out_features=4096, bias=False)\n",
       "          (k_proj): Linear4bit(in_features=4096, out_features=4096, bias=False)\n",
       "          (v_proj): Linear4bit(in_features=4096, out_features=4096, bias=False)\n",
       "          (o_proj): Linear4bit(in_features=4096, out_features=4096, bias=False)\n",
       "          (rotary_emb): LlamaRotaryEmbedding()\n",
       "        )\n",
       "        (mlp): LlamaMLP(\n",
       "          (gate_proj): Linear4bit(in_features=4096, out_features=11008, bias=False)\n",
       "          (up_proj): Linear4bit(in_features=4096, out_features=11008, bias=False)\n",
       "          (down_proj): Linear4bit(in_features=11008, out_features=4096, bias=False)\n",
       "          (act_fn): SiLU()\n",
       "        )\n",
       "        (input_layernorm): LlamaRMSNorm()\n",
       "        (post_attention_layernorm): LlamaRMSNorm()\n",
       "      )\n",
       "    )\n",
       "    (norm): LlamaRMSNorm()\n",
       "  )\n",
       "  (lm_head): Linear(in_features=4096, out_features=32000, bias=False)\n",
       ")"
      ]
     },
     "execution_count": 10,
     "metadata": {},
     "output_type": "execute_result"
    }
   ],
   "source": [
    "model_id = \"model_240411_0952\"\n",
    "adapter_model = f\"models/{model_id}\"\n",
    "model = PeftModel.from_pretrained(\n",
    "    model=base_model,\n",
    "    model_id=adapter_model\n",
    ")\n",
    "model = model.merge_and_unload()\n",
    "model"
   ]
  },
  {
   "cell_type": "markdown",
   "metadata": {},
   "source": [
    "### Model inferencing demo"
   ]
  },
  {
   "cell_type": "code",
   "execution_count": 11,
   "metadata": {},
   "outputs": [],
   "source": [
    "pipe = pipeline(\n",
    "    task=\"text-generation\", \n",
    "    model=model, \n",
    "    tokenizer=tokenizer, \n",
    "    max_length=1024,\n",
    "    device_map=\"auto\"\n",
    ")"
   ]
  },
  {
   "cell_type": "code",
   "execution_count": 12,
   "metadata": {},
   "outputs": [
    {
     "name": "stdout",
     "output_type": "stream",
     "text": [
      "<s>[INST] <<SYS>>\n",
      "You are a helpful and honest psychologist.Respond to the following question from the user.Your answers should not include any critical, dangerous or illegal content.Your answers should be unbiased and encouraging.\n",
      "<</SYS>>\n",
      "\n",
      "###User: I am really worried about my schoolwork. I think I can never finish them on time and is likely to fail all my exams this semester. What should I do?###You: [/INST]  Thank you for reaching out for support! It's completely normal to feel overwhelmed with schoolwork, especially during exams season. Here are some suggestions that may help you manage your workload and reduce your stress levels:\n",
      "\n",
      "1. Break down your tasks: Divide your assignments and exams into smaller, manageable chunks. Create a schedule for each task, including deadlines and study sessions. This will help you stay organized and focused.\n",
      "2. Prioritize your tasks: Identify the most critical tasks that require your immediate attention. Focus on completing these tasks first, and then move on to the less urgent ones.\n",
      "3. Seek help when needed: Don't hesitate to ask for help from your teachers, classmates, or tutors. They may be able to provide additional support, clarify any doubts, or offer valuable insights.\n",
      "4. Take breaks: It's essential to take breaks and give yourself time to relax and recharge. Set aside time each day to do something you enjoy, such as reading a book, listening to music, or taking a walk.\n",
      "5. Practice self-care: Make sure you're getting enough sleep, eating a balanced diet, and exercising regularly. Taking care of your physical and mental health is crucial for maintaining your focus and productivity.\n",
      "6. Stay positive: Remind yourself that you can manage your workload and achieve your academic goals. Believe in yourself and your abilities, and don't be too hard on yourself if you encounter setbacks.\n",
      "7. Seek support from friends and family: Talk to your loved ones about your concerns and ask for their support. They may be able to offer emotional support, help with errands, or provide additional resources.\n",
      "8. Consider seeking professional help: If you're feeling overwhelmed and unable to cope with your schoolwork, consider seeking help from a mental health professional. They can provide you with additional coping strategies and support.\n",
      "\n",
      "Remember, it's okay to feel overwhelmed, and it's important to take proactive steps to manage your workload and reduce your stress levels. By breaking down your tasks, seeking help when needed, and practicing self-care, you can achieve your academic goals and stay on track. Good luck!\n"
     ]
    }
   ],
   "source": [
    "question = \"I am really worried about my schoolwork. I think I can never finish them on time and is likely to fail all my exams this semester. What should I do?\"\n",
    "result = pipe(get_question_prompt(question))\n",
    "print(result[0]['generated_text'])"
   ]
  },
  {
   "cell_type": "markdown",
   "metadata": {},
   "source": [
    "### Model inferencing on test data"
   ]
  },
  {
   "cell_type": "code",
   "execution_count": 13,
   "metadata": {},
   "outputs": [
    {
     "name": "stderr",
     "output_type": "stream",
     "text": [
      " 32%|███▏      | 9/28 [10:16<20:43, 65.44s/it]--- Logging error ---\n",
      "Traceback (most recent call last):\n",
      "  File \"/home/wk3user3/.conda/envs/apai-nlp/lib/python3.11/logging/__init__.py\", line 1110, in emit\n",
      "    msg = self.format(record)\n",
      "          ^^^^^^^^^^^^^^^^^^^\n",
      "  File \"/home/wk3user3/.conda/envs/apai-nlp/lib/python3.11/logging/__init__.py\", line 953, in format\n",
      "    return fmt.format(record)\n",
      "           ^^^^^^^^^^^^^^^^^^\n",
      "  File \"/home/wk3user3/.conda/envs/apai-nlp/lib/python3.11/logging/__init__.py\", line 687, in format\n",
      "    record.message = record.getMessage()\n",
      "                     ^^^^^^^^^^^^^^^^^^^\n",
      "  File \"/home/wk3user3/.conda/envs/apai-nlp/lib/python3.11/logging/__init__.py\", line 377, in getMessage\n",
      "    msg = msg % self.args\n",
      "          ~~~~^~~~~~~~~~~\n",
      "TypeError: not all arguments converted during string formatting\n",
      "Call stack:\n",
      "  File \"<frozen runpy>\", line 198, in _run_module_as_main\n",
      "  File \"<frozen runpy>\", line 88, in _run_code\n",
      "  File \"/home/wk3user3/.conda/envs/apai-nlp/lib/python3.11/site-packages/ipykernel_launcher.py\", line 18, in <module>\n",
      "    app.launch_new_instance()\n",
      "  File \"/home/wk3user3/.conda/envs/apai-nlp/lib/python3.11/site-packages/traitlets/config/application.py\", line 1075, in launch_instance\n",
      "    app.start()\n",
      "  File \"/home/wk3user3/.conda/envs/apai-nlp/lib/python3.11/site-packages/ipykernel/kernelapp.py\", line 739, in start\n",
      "    self.io_loop.start()\n",
      "  File \"/home/wk3user3/.conda/envs/apai-nlp/lib/python3.11/site-packages/tornado/platform/asyncio.py\", line 205, in start\n",
      "    self.asyncio_loop.run_forever()\n",
      "  File \"/home/wk3user3/.conda/envs/apai-nlp/lib/python3.11/asyncio/base_events.py\", line 608, in run_forever\n",
      "    self._run_once()\n",
      "  File \"/home/wk3user3/.conda/envs/apai-nlp/lib/python3.11/asyncio/base_events.py\", line 1936, in _run_once\n",
      "    handle._run()\n",
      "  File \"/home/wk3user3/.conda/envs/apai-nlp/lib/python3.11/asyncio/events.py\", line 84, in _run\n",
      "    self._context.run(self._callback, *self._args)\n",
      "  File \"/home/wk3user3/.conda/envs/apai-nlp/lib/python3.11/site-packages/ipykernel/kernelbase.py\", line 545, in dispatch_queue\n",
      "    await self.process_one()\n",
      "  File \"/home/wk3user3/.conda/envs/apai-nlp/lib/python3.11/site-packages/ipykernel/kernelbase.py\", line 534, in process_one\n",
      "    await dispatch(*args)\n",
      "  File \"/home/wk3user3/.conda/envs/apai-nlp/lib/python3.11/site-packages/ipykernel/kernelbase.py\", line 437, in dispatch_shell\n",
      "    await result\n",
      "  File \"/home/wk3user3/.conda/envs/apai-nlp/lib/python3.11/site-packages/ipykernel/ipkernel.py\", line 362, in execute_request\n",
      "    await super().execute_request(stream, ident, parent)\n",
      "  File \"/home/wk3user3/.conda/envs/apai-nlp/lib/python3.11/site-packages/ipykernel/kernelbase.py\", line 778, in execute_request\n",
      "    reply_content = await reply_content\n",
      "  File \"/home/wk3user3/.conda/envs/apai-nlp/lib/python3.11/site-packages/ipykernel/ipkernel.py\", line 449, in do_execute\n",
      "    res = shell.run_cell(\n",
      "  File \"/home/wk3user3/.conda/envs/apai-nlp/lib/python3.11/site-packages/ipykernel/zmqshell.py\", line 549, in run_cell\n",
      "    return super().run_cell(*args, **kwargs)\n",
      "  File \"/home/wk3user3/.conda/envs/apai-nlp/lib/python3.11/site-packages/IPython/core/interactiveshell.py\", line 3075, in run_cell\n",
      "    result = self._run_cell(\n",
      "  File \"/home/wk3user3/.conda/envs/apai-nlp/lib/python3.11/site-packages/IPython/core/interactiveshell.py\", line 3130, in _run_cell\n",
      "    result = runner(coro)\n",
      "  File \"/home/wk3user3/.conda/envs/apai-nlp/lib/python3.11/site-packages/IPython/core/async_helpers.py\", line 129, in _pseudo_sync_runner\n",
      "    coro.send(None)\n",
      "  File \"/home/wk3user3/.conda/envs/apai-nlp/lib/python3.11/site-packages/IPython/core/interactiveshell.py\", line 3334, in run_cell_async\n",
      "    has_raised = await self.run_ast_nodes(code_ast.body, cell_name,\n",
      "  File \"/home/wk3user3/.conda/envs/apai-nlp/lib/python3.11/site-packages/IPython/core/interactiveshell.py\", line 3517, in run_ast_nodes\n",
      "    if await self.run_code(code, result, async_=asy):\n",
      "  File \"/home/wk3user3/.conda/envs/apai-nlp/lib/python3.11/site-packages/IPython/core/interactiveshell.py\", line 3577, in run_code\n",
      "    exec(code_obj, self.user_global_ns, self.user_ns)\n",
      "  File \"/tmp/ipykernel_239269/237025327.py\", line 5, in <module>\n",
      "    result = pipe(df_test[\"prompt\"].to_list()[i*chunk_size: (i+1)*chunk_size])\n",
      "  File \"/home/wk3user3/.conda/envs/apai-nlp/lib/python3.11/site-packages/transformers/pipelines/text_generation.py\", line 240, in __call__\n",
      "    return super().__call__(text_inputs, **kwargs)\n",
      "  File \"/home/wk3user3/.conda/envs/apai-nlp/lib/python3.11/site-packages/transformers/pipelines/base.py\", line 1181, in __call__\n",
      "    logger.warning_once(\n",
      "  File \"/home/wk3user3/.conda/envs/apai-nlp/lib/python3.11/site-packages/transformers/utils/logging.py\", line 329, in warning_once\n",
      "    self.warning(*args, **kwargs)\n",
      "Message: 'You seem to be using the pipelines sequentially on GPU. In order to maximize efficiency please use a dataset'\n",
      "Arguments: (<class 'UserWarning'>,)\n",
      "100%|██████████| 28/28 [28:19<00:00, 60.68s/it]"
     ]
    },
    {
     "name": "stdout",
     "output_type": "stream",
     "text": [
      "[{'generated_text': \"<s>[INST] <<SYS>>\\nYou are a helpful and honest psychologist.Respond to the following question from the user.Your answers should not include any critical, dangerous or illegal content.Your answers should be unbiased and encouraging.\\n<</SYS>>\\n\\n###User: I have so many issues to address. I have a history of sexual abuse, I’m a breast cancer survivor and I am a lifetime insomniac.    I have a long history of depression and I’m beginning to have anxiety. I have low self esteem but I’ve been happily married for almost 35 years.\\n   I’ve never had counseling about any of this. Do I have too many issues to address in counseling?###You: [/INST]  Thank you for sharing your personal struggles with me. It takes a lot of courage to open up about such sensitive topics, and I want to acknowledge your bravery. It's important to recognize that you have been through a lot, and it's completely understandable that you may be feeling overwhelmed and unsure of where to turn.\\n\\nFirstly, please know that you are not alone in this. Many people have experienced similar struggles, and there is no shame in seeking help. In fact, seeking professional help can be a powerful tool in managing these issues and improving your overall well-being.\\n\\nRegarding your concerns about having too many issues to address in counseling, I would like to assure you that this is a common misconception. Counseling is not a one-size-fits-all approach, and it's okay to have multiple issues to work on. In fact, many people find that addressing multiple issues in counseling can be beneficial as it allows them to explore the interconnectedness of their experiences and emotions.\\n\\nIt's important to find a therapist who is a good fit for you and who can help you navigate these complex issues. Some therapists may specialize in certain areas, such as trauma, anxiety, or depression, but many are trained to work with a wide range of issues. Don't be afraid to ask questions about a therapist's experience and training before committing to working with them.\\n\\nRemember, counseling is a collaborative process, and it's important to feel comfortable and supported throughout the process. You don't have to face these issues alone, and with the help of a trained therapist, you can work towards healing and growth.\\n\\nIn terms of your specific issues, it's important to recognize that sexual abuse, breast cancer, and insomnia can all have a significant impact on a person's mental health. It's not uncommon for these experiences to lead to feelings of low self-esteem, anxiety, and depression.\\n\\nCounseling can provide a safe and supportive environment for you to process these experiences and work towards healing. A therapist can help you develop coping strategies, work through difficult emotions, and improve your overall well-being.\\n\\nRemember, healing is a journey, and it's okay to take things one step at a time. Don't be afraid to reach out for support when you need it, and don't hesitate to seek professional help if you're struggling to manage your emotions and experiences on your own.\\n\\nIn conclusion, please know that you are not alone in this, and there is no shame in seeking help. With the support of a trained therapist, you can work towards healing and growth, and improve your overall well-being. Don't hesitate to reach out if you have any further questions or concerns.\"}]\n"
     ]
    },
    {
     "name": "stderr",
     "output_type": "stream",
     "text": [
      "\n"
     ]
    }
   ],
   "source": [
    "chunk_size = 4\n",
    "num_chunks = df_test.shape[0] // chunk_size + int(df_test.shape[0] % chunk_size > 0)\n",
    "results = []\n",
    "with warnings.catch_warnings(category=UserWarning):\n",
    "    warnings.filterwarnings(\"ignore\")\n",
    "    for i in tqdm(range(num_chunks)):\n",
    "        result = pipe(df_test[\"prompt\"].to_list()[i*chunk_size: (i+1)*chunk_size])\n",
    "        results.extend(result)\n",
    "print(results[0])"
   ]
  },
  {
   "cell_type": "code",
   "execution_count": 14,
   "metadata": {},
   "outputs": [
    {
     "data": {
      "text/html": [
       "<div>\n",
       "<style scoped>\n",
       "    .dataframe tbody tr th:only-of-type {\n",
       "        vertical-align: middle;\n",
       "    }\n",
       "\n",
       "    .dataframe tbody tr th {\n",
       "        vertical-align: top;\n",
       "    }\n",
       "\n",
       "    .dataframe thead th {\n",
       "        text-align: right;\n",
       "    }\n",
       "</style>\n",
       "<table border=\"1\" class=\"dataframe\">\n",
       "  <thead>\n",
       "    <tr style=\"text-align: right;\">\n",
       "      <th></th>\n",
       "      <th>questionTitle</th>\n",
       "      <th>questionText</th>\n",
       "      <th>topic</th>\n",
       "      <th>answerText</th>\n",
       "      <th>upvotes</th>\n",
       "      <th>views</th>\n",
       "      <th>prompt</th>\n",
       "      <th>generatedText</th>\n",
       "      <th>generatedAnswerText</th>\n",
       "    </tr>\n",
       "    <tr>\n",
       "      <th>questionID</th>\n",
       "      <th></th>\n",
       "      <th></th>\n",
       "      <th></th>\n",
       "      <th></th>\n",
       "      <th></th>\n",
       "      <th></th>\n",
       "      <th></th>\n",
       "      <th></th>\n",
       "      <th></th>\n",
       "    </tr>\n",
       "  </thead>\n",
       "  <tbody>\n",
       "    <tr>\n",
       "      <th>0</th>\n",
       "      <td>Do I have too many issues for counseling?</td>\n",
       "      <td>I have so many issues to address. I have a his...</td>\n",
       "      <td>depression</td>\n",
       "      <td>It is very common for people to have multiple ...</td>\n",
       "      <td>3</td>\n",
       "      <td>1971</td>\n",
       "      <td>&lt;s&gt;[INST] &lt;&lt;SYS&gt;&gt;\\nYou are a helpful and hones...</td>\n",
       "      <td>&lt;s&gt;[INST] &lt;&lt;SYS&gt;&gt;\\nYou are a helpful and hones...</td>\n",
       "      <td>Thank you for sharing your personal struggles ...</td>\n",
       "    </tr>\n",
       "    <tr>\n",
       "      <th>2</th>\n",
       "      <td>I feel like my mother doesn't support me</td>\n",
       "      <td>My mother is combative with me when I say I do...</td>\n",
       "      <td>depression</td>\n",
       "      <td>Do you live with your mom and have constant in...</td>\n",
       "      <td>2</td>\n",
       "      <td>187</td>\n",
       "      <td>&lt;s&gt;[INST] &lt;&lt;SYS&gt;&gt;\\nYou are a helpful and hones...</td>\n",
       "      <td>&lt;s&gt;[INST] &lt;&lt;SYS&gt;&gt;\\nYou are a helpful and hones...</td>\n",
       "      <td>Thank you for reaching out for support. It's c...</td>\n",
       "    </tr>\n",
       "    <tr>\n",
       "      <th>11</th>\n",
       "      <td>Why am I experiencing dfficulty maintaining an...</td>\n",
       "      <td>A few years ago I was making love to my wife w...</td>\n",
       "      <td>depression</td>\n",
       "      <td>When I'm working with men with this type of si...</td>\n",
       "      <td>1</td>\n",
       "      <td>194</td>\n",
       "      <td>&lt;s&gt;[INST] &lt;&lt;SYS&gt;&gt;\\nYou are a helpful and hones...</td>\n",
       "      <td>&lt;s&gt;[INST] &lt;&lt;SYS&gt;&gt;\\nYou are a helpful and hones...</td>\n",
       "      <td>Thank you for reaching out for support. It tak...</td>\n",
       "    </tr>\n",
       "    <tr>\n",
       "      <th>14</th>\n",
       "      <td>Can I change my feeling of being worthless to ...</td>\n",
       "      <td>I'm going through some things with my feelings...</td>\n",
       "      <td>depression</td>\n",
       "      <td>Hello, and thank you for your question and see...</td>\n",
       "      <td>2</td>\n",
       "      <td>5423</td>\n",
       "      <td>&lt;s&gt;[INST] &lt;&lt;SYS&gt;&gt;\\nYou are a helpful and hones...</td>\n",
       "      <td>&lt;s&gt;[INST] &lt;&lt;SYS&gt;&gt;\\nYou are a helpful and hones...</td>\n",
       "      <td>Thank you for sharing your struggles with me. ...</td>\n",
       "    </tr>\n",
       "    <tr>\n",
       "      <th>16</th>\n",
       "      <td>How can I stop treating people badly?</td>\n",
       "      <td>I feel like I'm so alone. I treat people horri...</td>\n",
       "      <td>depression</td>\n",
       "      <td>Give yourself a little more credit for self-ob...</td>\n",
       "      <td>1</td>\n",
       "      <td>1029</td>\n",
       "      <td>&lt;s&gt;[INST] &lt;&lt;SYS&gt;&gt;\\nYou are a helpful and hones...</td>\n",
       "      <td>&lt;s&gt;[INST] &lt;&lt;SYS&gt;&gt;\\nYou are a helpful and hones...</td>\n",
       "      <td>Thank you for sharing your feelings with me. I...</td>\n",
       "    </tr>\n",
       "  </tbody>\n",
       "</table>\n",
       "</div>"
      ],
      "text/plain": [
       "                                                questionTitle  \\\n",
       "questionID                                                      \n",
       "0                   Do I have too many issues for counseling?   \n",
       "2                    I feel like my mother doesn't support me   \n",
       "11          Why am I experiencing dfficulty maintaining an...   \n",
       "14          Can I change my feeling of being worthless to ...   \n",
       "16                      How can I stop treating people badly?   \n",
       "\n",
       "                                                 questionText       topic  \\\n",
       "questionID                                                                  \n",
       "0           I have so many issues to address. I have a his...  depression   \n",
       "2           My mother is combative with me when I say I do...  depression   \n",
       "11          A few years ago I was making love to my wife w...  depression   \n",
       "14          I'm going through some things with my feelings...  depression   \n",
       "16          I feel like I'm so alone. I treat people horri...  depression   \n",
       "\n",
       "                                                   answerText  upvotes  views  \\\n",
       "questionID                                                                      \n",
       "0           It is very common for people to have multiple ...        3   1971   \n",
       "2           Do you live with your mom and have constant in...        2    187   \n",
       "11          When I'm working with men with this type of si...        1    194   \n",
       "14          Hello, and thank you for your question and see...        2   5423   \n",
       "16          Give yourself a little more credit for self-ob...        1   1029   \n",
       "\n",
       "                                                       prompt  \\\n",
       "questionID                                                      \n",
       "0           <s>[INST] <<SYS>>\\nYou are a helpful and hones...   \n",
       "2           <s>[INST] <<SYS>>\\nYou are a helpful and hones...   \n",
       "11          <s>[INST] <<SYS>>\\nYou are a helpful and hones...   \n",
       "14          <s>[INST] <<SYS>>\\nYou are a helpful and hones...   \n",
       "16          <s>[INST] <<SYS>>\\nYou are a helpful and hones...   \n",
       "\n",
       "                                                generatedText  \\\n",
       "questionID                                                      \n",
       "0           <s>[INST] <<SYS>>\\nYou are a helpful and hones...   \n",
       "2           <s>[INST] <<SYS>>\\nYou are a helpful and hones...   \n",
       "11          <s>[INST] <<SYS>>\\nYou are a helpful and hones...   \n",
       "14          <s>[INST] <<SYS>>\\nYou are a helpful and hones...   \n",
       "16          <s>[INST] <<SYS>>\\nYou are a helpful and hones...   \n",
       "\n",
       "                                          generatedAnswerText  \n",
       "questionID                                                     \n",
       "0           Thank you for sharing your personal struggles ...  \n",
       "2           Thank you for reaching out for support. It's c...  \n",
       "11          Thank you for reaching out for support. It tak...  \n",
       "14          Thank you for sharing your struggles with me. ...  \n",
       "16          Thank you for sharing your feelings with me. I...  "
      ]
     },
     "execution_count": 14,
     "metadata": {},
     "output_type": "execute_result"
    }
   ],
   "source": [
    "df_test[\"generatedText\"] = [res[0][\"generated_text\"] for res in results]\n",
    "df_test[\"generatedAnswerText\"] = df_test[\"generatedText\"].apply(\n",
    "    lambda text: re.split(r\"\\[\\/INST\\]\\s*\", text, maxsplit=1)[1]\n",
    ")\n",
    "df_test.head()"
   ]
  },
  {
   "cell_type": "code",
   "execution_count": 15,
   "metadata": {},
   "outputs": [],
   "source": [
    "# df_test[\n",
    "#     [\"topic\", \"questionText\", \"answerText\", \"generatedAnswerText\"]\n",
    "# ].to_csv(f\"response/test-response-{model_id}.csv\")"
   ]
  },
  {
   "cell_type": "code",
   "execution_count": null,
   "metadata": {},
   "outputs": [],
   "source": []
  }
 ],
 "metadata": {
  "kernelspec": {
   "display_name": "apai-nlp",
   "language": "python",
   "name": "python3"
  },
  "language_info": {
   "codemirror_mode": {
    "name": "ipython",
    "version": 3
   },
   "file_extension": ".py",
   "mimetype": "text/x-python",
   "name": "python",
   "nbconvert_exporter": "python",
   "pygments_lexer": "ipython3",
   "version": "3.12.3"
  }
 },
 "nbformat": 4,
 "nbformat_minor": 2
}
