{
 "cells": [
  {
   "cell_type": "markdown",
   "metadata": {},
   "source": [
    "# Data Cleaning of ESG Risk Levels and Scores"
   ]
  },
  {
   "cell_type": "code",
   "execution_count": 1,
   "metadata": {},
   "outputs": [],
   "source": [
    "import os\n",
    "import pandas as pd\n",
    "\n",
    "os.chdir(\"../..\")"
   ]
  },
  {
   "cell_type": "markdown",
   "metadata": {},
   "source": [
    "### Load raw dataset"
   ]
  },
  {
   "cell_type": "code",
   "execution_count": 19,
   "metadata": {},
   "outputs": [
    {
     "name": "stdout",
     "output_type": "stream",
     "text": [
      "(503, 15)\n"
     ]
    }
   ],
   "source": [
    "esg = pd.read_csv(\"data/raw/SP 500 ESG Risk Ratings.csv\")\n",
    "print(esg.shape)"
   ]
  },
  {
   "cell_type": "code",
   "execution_count": 20,
   "metadata": {},
   "outputs": [
    {
     "data": {
      "text/html": [
       "<div>\n",
       "<style scoped>\n",
       "    .dataframe tbody tr th:only-of-type {\n",
       "        vertical-align: middle;\n",
       "    }\n",
       "\n",
       "    .dataframe tbody tr th {\n",
       "        vertical-align: top;\n",
       "    }\n",
       "\n",
       "    .dataframe thead th {\n",
       "        text-align: right;\n",
       "    }\n",
       "</style>\n",
       "<table border=\"1\" class=\"dataframe\">\n",
       "  <thead>\n",
       "    <tr style=\"text-align: right;\">\n",
       "      <th></th>\n",
       "      <th>Symbol</th>\n",
       "      <th>Name</th>\n",
       "      <th>Address</th>\n",
       "      <th>Sector</th>\n",
       "      <th>Industry</th>\n",
       "      <th>Full Time Employees</th>\n",
       "      <th>Description</th>\n",
       "      <th>Total ESG Risk score</th>\n",
       "      <th>Environment Risk Score</th>\n",
       "      <th>Governance Risk Score</th>\n",
       "      <th>Social Risk Score</th>\n",
       "      <th>Controversy Level</th>\n",
       "      <th>Controversy Score</th>\n",
       "      <th>ESG Risk Percentile</th>\n",
       "      <th>ESG Risk Level</th>\n",
       "    </tr>\n",
       "  </thead>\n",
       "  <tbody>\n",
       "    <tr>\n",
       "      <th>0</th>\n",
       "      <td>A</td>\n",
       "      <td>Agilent Technologies Inc</td>\n",
       "      <td>5301 Stevens Creek Boulevard\\nSanta Clara, CA ...</td>\n",
       "      <td>Healthcare</td>\n",
       "      <td>Diagnostics &amp; Research</td>\n",
       "      <td>18,000</td>\n",
       "      <td>Agilent Technologies, Inc. provides applicatio...</td>\n",
       "      <td>15.0</td>\n",
       "      <td>0.3</td>\n",
       "      <td>6.3</td>\n",
       "      <td>8.6</td>\n",
       "      <td>Low</td>\n",
       "      <td>1.0</td>\n",
       "      <td>11th percentile</td>\n",
       "      <td>Low</td>\n",
       "    </tr>\n",
       "    <tr>\n",
       "      <th>1</th>\n",
       "      <td>AAL</td>\n",
       "      <td>American Airlines Group Inc</td>\n",
       "      <td>1 Skyview Drive\\nFort Worth, TX 76155\\nUnited ...</td>\n",
       "      <td>Industrials</td>\n",
       "      <td>Airlines</td>\n",
       "      <td>132,500</td>\n",
       "      <td>American Airlines Group Inc., through its subs...</td>\n",
       "      <td>29.0</td>\n",
       "      <td>12.0</td>\n",
       "      <td>5.0</td>\n",
       "      <td>12.0</td>\n",
       "      <td>Moderate</td>\n",
       "      <td>2.0</td>\n",
       "      <td>62nd percentile</td>\n",
       "      <td>NaN</td>\n",
       "    </tr>\n",
       "    <tr>\n",
       "      <th>2</th>\n",
       "      <td>AAP</td>\n",
       "      <td>Advance Auto Parts Inc</td>\n",
       "      <td>4200 Six Forks Road\\nRaleigh, NC 27609\\nUnited...</td>\n",
       "      <td>Consumer Cyclical</td>\n",
       "      <td>Specialty Retail</td>\n",
       "      <td>40,000</td>\n",
       "      <td>Advance Auto Parts, Inc. provides automotive r...</td>\n",
       "      <td>12.0</td>\n",
       "      <td>0.0</td>\n",
       "      <td>3.0</td>\n",
       "      <td>8.0</td>\n",
       "      <td>Moderate</td>\n",
       "      <td>2.0</td>\n",
       "      <td>4th percentile</td>\n",
       "      <td>Negligible</td>\n",
       "    </tr>\n",
       "    <tr>\n",
       "      <th>3</th>\n",
       "      <td>AAPL</td>\n",
       "      <td>Apple Inc</td>\n",
       "      <td>One Apple Park Way\\nCupertino, CA 95014\\nUnite...</td>\n",
       "      <td>Technology</td>\n",
       "      <td>Consumer Electronics</td>\n",
       "      <td>164,000</td>\n",
       "      <td>Apple Inc. designs, manufactures, and markets ...</td>\n",
       "      <td>17.0</td>\n",
       "      <td>0.6</td>\n",
       "      <td>9.2</td>\n",
       "      <td>6.9</td>\n",
       "      <td>Significant</td>\n",
       "      <td>3.0</td>\n",
       "      <td>15th percentile</td>\n",
       "      <td>Low</td>\n",
       "    </tr>\n",
       "    <tr>\n",
       "      <th>4</th>\n",
       "      <td>ABBV</td>\n",
       "      <td>Abbvie Inc</td>\n",
       "      <td>1 North Waukegan Road\\nNorth Chicago, IL 60064...</td>\n",
       "      <td>Healthcare</td>\n",
       "      <td>Drug Manufacturers—General</td>\n",
       "      <td>50,000</td>\n",
       "      <td>AbbVie Inc. discovers, develops, manufactures,...</td>\n",
       "      <td>28.0</td>\n",
       "      <td>1.1</td>\n",
       "      <td>9.9</td>\n",
       "      <td>16.8</td>\n",
       "      <td>Significant</td>\n",
       "      <td>3.0</td>\n",
       "      <td>55th percentile</td>\n",
       "      <td>Medium</td>\n",
       "    </tr>\n",
       "  </tbody>\n",
       "</table>\n",
       "</div>"
      ],
      "text/plain": [
       "  Symbol                         Name  \\\n",
       "0      A     Agilent Technologies Inc   \n",
       "1    AAL  American Airlines Group Inc   \n",
       "2    AAP       Advance Auto Parts Inc   \n",
       "3   AAPL                    Apple Inc   \n",
       "4   ABBV                   Abbvie Inc   \n",
       "\n",
       "                                             Address             Sector  \\\n",
       "0  5301 Stevens Creek Boulevard\\nSanta Clara, CA ...         Healthcare   \n",
       "1  1 Skyview Drive\\nFort Worth, TX 76155\\nUnited ...        Industrials   \n",
       "2  4200 Six Forks Road\\nRaleigh, NC 27609\\nUnited...  Consumer Cyclical   \n",
       "3  One Apple Park Way\\nCupertino, CA 95014\\nUnite...         Technology   \n",
       "4  1 North Waukegan Road\\nNorth Chicago, IL 60064...         Healthcare   \n",
       "\n",
       "                     Industry Full Time Employees  \\\n",
       "0      Diagnostics & Research              18,000   \n",
       "1                    Airlines             132,500   \n",
       "2            Specialty Retail              40,000   \n",
       "3        Consumer Electronics             164,000   \n",
       "4  Drug Manufacturers—General              50,000   \n",
       "\n",
       "                                         Description  Total ESG Risk score  \\\n",
       "0  Agilent Technologies, Inc. provides applicatio...                  15.0   \n",
       "1  American Airlines Group Inc., through its subs...                  29.0   \n",
       "2  Advance Auto Parts, Inc. provides automotive r...                  12.0   \n",
       "3  Apple Inc. designs, manufactures, and markets ...                  17.0   \n",
       "4  AbbVie Inc. discovers, develops, manufactures,...                  28.0   \n",
       "\n",
       "   Environment Risk Score  Governance Risk Score  Social Risk Score  \\\n",
       "0                     0.3                    6.3                8.6   \n",
       "1                    12.0                    5.0               12.0   \n",
       "2                     0.0                    3.0                8.0   \n",
       "3                     0.6                    9.2                6.9   \n",
       "4                     1.1                    9.9               16.8   \n",
       "\n",
       "  Controversy Level  Controversy Score ESG Risk Percentile ESG Risk Level  \n",
       "0               Low                1.0     11th percentile            Low  \n",
       "1          Moderate                2.0     62nd percentile            NaN  \n",
       "2          Moderate                2.0      4th percentile     Negligible  \n",
       "3       Significant                3.0     15th percentile            Low  \n",
       "4       Significant                3.0     55th percentile         Medium  "
      ]
     },
     "execution_count": 20,
     "metadata": {},
     "output_type": "execute_result"
    }
   ],
   "source": [
    "esg.head()"
   ]
  },
  {
   "cell_type": "markdown",
   "metadata": {},
   "source": [
    "### Drop rows where `Symbol` contains non alphabets "
   ]
  },
  {
   "cell_type": "code",
   "execution_count": 21,
   "metadata": {},
   "outputs": [
    {
     "name": "stdout",
     "output_type": "stream",
     "text": [
      "(501, 15)\n"
     ]
    }
   ],
   "source": [
    "esg = esg.loc[esg.Symbol.apply(\n",
    "    lambda symbol: symbol.isalpha()\n",
    ")]\n",
    "print(esg.shape)"
   ]
  },
  {
   "cell_type": "markdown",
   "metadata": {},
   "source": [
    "### Extract companies with at least one of `ESG Risk Level` and `Total ESG Risk score`"
   ]
  },
  {
   "cell_type": "code",
   "execution_count": 22,
   "metadata": {},
   "outputs": [
    {
     "data": {
      "text/plain": [
       "(433, 15)"
      ]
     },
     "execution_count": 22,
     "metadata": {},
     "output_type": "execute_result"
    }
   ],
   "source": [
    "esg = esg.dropna(subset=[\"ESG Risk Level\", \"Total ESG Risk score\"], how=\"all\")\n",
    "esg.shape"
   ]
  },
  {
   "cell_type": "markdown",
   "metadata": {},
   "source": [
    "### Drop excessive columns"
   ]
  },
  {
   "cell_type": "code",
   "execution_count": 23,
   "metadata": {},
   "outputs": [
    {
     "data": {
      "text/html": [
       "<div>\n",
       "<style scoped>\n",
       "    .dataframe tbody tr th:only-of-type {\n",
       "        vertical-align: middle;\n",
       "    }\n",
       "\n",
       "    .dataframe tbody tr th {\n",
       "        vertical-align: top;\n",
       "    }\n",
       "\n",
       "    .dataframe thead th {\n",
       "        text-align: right;\n",
       "    }\n",
       "</style>\n",
       "<table border=\"1\" class=\"dataframe\">\n",
       "  <thead>\n",
       "    <tr style=\"text-align: right;\">\n",
       "      <th></th>\n",
       "      <th>Symbol</th>\n",
       "      <th>ESG Risk Level</th>\n",
       "      <th>Total ESG Risk score</th>\n",
       "    </tr>\n",
       "  </thead>\n",
       "  <tbody>\n",
       "    <tr>\n",
       "      <th>0</th>\n",
       "      <td>A</td>\n",
       "      <td>Low</td>\n",
       "      <td>15.0</td>\n",
       "    </tr>\n",
       "    <tr>\n",
       "      <th>1</th>\n",
       "      <td>AAL</td>\n",
       "      <td>NaN</td>\n",
       "      <td>29.0</td>\n",
       "    </tr>\n",
       "    <tr>\n",
       "      <th>2</th>\n",
       "      <td>AAP</td>\n",
       "      <td>Negligible</td>\n",
       "      <td>12.0</td>\n",
       "    </tr>\n",
       "    <tr>\n",
       "      <th>3</th>\n",
       "      <td>AAPL</td>\n",
       "      <td>Low</td>\n",
       "      <td>17.0</td>\n",
       "    </tr>\n",
       "    <tr>\n",
       "      <th>4</th>\n",
       "      <td>ABBV</td>\n",
       "      <td>Medium</td>\n",
       "      <td>28.0</td>\n",
       "    </tr>\n",
       "  </tbody>\n",
       "</table>\n",
       "</div>"
      ],
      "text/plain": [
       "  Symbol ESG Risk Level  Total ESG Risk score\n",
       "0      A            Low                  15.0\n",
       "1    AAL            NaN                  29.0\n",
       "2    AAP     Negligible                  12.0\n",
       "3   AAPL            Low                  17.0\n",
       "4   ABBV         Medium                  28.0"
      ]
     },
     "execution_count": 23,
     "metadata": {},
     "output_type": "execute_result"
    }
   ],
   "source": [
    "esg = esg[[\"Symbol\", \"ESG Risk Level\", \"Total ESG Risk score\"]]\n",
    "esg = esg.reset_index(drop=True)\n",
    "esg.head()"
   ]
  },
  {
   "cell_type": "markdown",
   "metadata": {},
   "source": [
    "### Save processed dataset"
   ]
  },
  {
   "cell_type": "code",
   "execution_count": 26,
   "metadata": {},
   "outputs": [],
   "source": [
    "# esg.to_csv(\"data/processed/esg_score.csv\", index=False)"
   ]
  },
  {
   "cell_type": "code",
   "execution_count": null,
   "metadata": {},
   "outputs": [],
   "source": []
  }
 ],
 "metadata": {
  "kernelspec": {
   "display_name": "nlp",
   "language": "python",
   "name": "python3"
  },
  "language_info": {
   "codemirror_mode": {
    "name": "ipython",
    "version": 3
   },
   "file_extension": ".py",
   "mimetype": "text/x-python",
   "name": "python",
   "nbconvert_exporter": "python",
   "pygments_lexer": "ipython3",
   "version": "3.10.13"
  }
 },
 "nbformat": 4,
 "nbformat_minor": 2
}
